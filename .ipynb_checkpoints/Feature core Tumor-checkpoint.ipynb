{
 "cells": [
  {
   "cell_type": "code",
   "execution_count": null,
   "metadata": {},
   "outputs": [],
   "source": [
    "#在CT和IM上计算的三类特征"
   ]
  },
  {
   "cell_type": "code",
   "execution_count": 1,
   "metadata": {},
   "outputs": [],
   "source": [
    "#三类特征在CT和IM上计算\n",
    "import os\n",
    "import cv2\n",
    "import math\n",
    "from PIL import Image\n",
    "from normalization import normalizeStaining\n",
    "import utilities\n",
    "import matplotlib\n",
    "import matplotlib.pyplot as plt\n",
    "from PIL import Image, ImageDraw\n",
    "import numpy as np\n",
    "from bs4 import BeautifulSoup\n",
    "import os\n",
    "import cv2\n",
    "import math\n",
    "from PIL import Image\n",
    "from normalization import normalizeStaining\n",
    "import utilities\n",
    "\n"
   ]
  },
  {
   "cell_type": "code",
   "execution_count": 2,
   "metadata": {},
   "outputs": [],
   "source": [
    "def xml_contour(xml_path):\n",
    "    with open(xml_path, 'r') as fp:\n",
    "        soup = BeautifulSoup(fp.read(), 'xml')\n",
    "    contours = []\n",
    "    for contour in soup.find_all('Contour'):\n",
    "        points = []\n",
    "        for pt in contour.find_all('Pt'):\n",
    "            points.append(tuple(float(v) for v in pt.get_text().split(',')))\n",
    "        contours.append(points)\n",
    "    return contours\n",
    "\n",
    "def change_number(contours,x,y):\n",
    "    W=1024\n",
    "    H=1024\n",
    "    contour=[]\n",
    "    for i in range(len(contours)):\n",
    "        c=[]\n",
    "        for j in range(len(contours[i])):\n",
    "            a= contours[i][j][0]+x*W\n",
    "            b= contours[i][j][1]+y*H\n",
    "            c.append((a,b))\n",
    "        contour.append(c) \n",
    "    return contour    \n",
    "\n",
    "def write_xml(contours, folder_path,name):\n",
    "    with open(os.path.join(folder_path, name),'w') as f:\n",
    "        f.write('<?xml version=\"1.0\" encoding=\"UTF-8\"?>\\n');\n",
    "        f.write('<!-- MIPAV VOI file -->\\n');\n",
    "        f.write('<VOI xmlns:xsi=\"http://www.w3.org/2001/XMLSchema-instance\">\\n')\n",
    "        f.write('<Unique-ID>1234567890</Unique-ID>\\n')\n",
    "        f.write('<Curve-type>0</Curve-type>\\n')\n",
    "        f.write('<Color>255,0,255,0</Color>\\n')\n",
    "        f.write('<Thickness>1</Thickness>\\n')\n",
    "        for i in range(len(contours)):\n",
    "            f.write('<Contour>\\n')\n",
    "            f.write('<Slice-number>0</Slice-number>\\n')\n",
    "            for contour in contours[i]:\n",
    "                f.write('<Pt>')\n",
    "                f.write(str(float(contour[0])))\n",
    "                f.write(',')\n",
    "                f.write(str(float(contour[1])))\n",
    "                f.write('</Pt>\\n')\n",
    "            f.write('</Contour>\\n')\n",
    "        f.write('</VOI>')            "
   ]
  },
  {
   "cell_type": "code",
   "execution_count": 3,
   "metadata": {
    "collapsed": true
   },
   "outputs": [
    {
     "ename": "StopIteration",
     "evalue": "",
     "output_type": "error",
     "traceback": [
      "\u001b[1;31m---------------------------------------------------------------------------\u001b[0m",
      "\u001b[1;31mStopIteration\u001b[0m                             Traceback (most recent call last)",
      "\u001b[1;32m<ipython-input-3-a981ca16f40b>\u001b[0m in \u001b[0;36m<module>\u001b[1;34m\u001b[0m\n\u001b[0;32m      5\u001b[0m \u001b[1;33m\u001b[0m\u001b[0m\n\u001b[0;32m      6\u001b[0m \u001b[0me_folders\u001b[0m\u001b[1;33m=\u001b[0m\u001b[1;34m'D:\\\\HCCW\\\\hcc2'\u001b[0m\u001b[1;33m\u001b[0m\u001b[1;33m\u001b[0m\u001b[0m\n\u001b[1;32m----> 7\u001b[1;33m \u001b[0m_\u001b[0m\u001b[1;33m,\u001b[0m \u001b[0mfolders\u001b[0m\u001b[1;33m,\u001b[0m \u001b[0m_\u001b[0m \u001b[1;33m=\u001b[0m \u001b[0mnext\u001b[0m\u001b[1;33m(\u001b[0m\u001b[0mos\u001b[0m\u001b[1;33m.\u001b[0m\u001b[0mwalk\u001b[0m\u001b[1;33m(\u001b[0m\u001b[0me_folders\u001b[0m\u001b[1;33m)\u001b[0m\u001b[1;33m)\u001b[0m\u001b[1;33m\u001b[0m\u001b[1;33m\u001b[0m\u001b[0m\n\u001b[0m\u001b[0;32m      8\u001b[0m \u001b[0mprint\u001b[0m\u001b[1;33m(\u001b[0m\u001b[0mlen\u001b[0m\u001b[1;33m(\u001b[0m\u001b[0mfolders\u001b[0m\u001b[1;33m)\u001b[0m\u001b[1;33m)\u001b[0m\u001b[1;33m\u001b[0m\u001b[1;33m\u001b[0m\u001b[0m\n\u001b[0;32m      9\u001b[0m \u001b[1;32mfor\u001b[0m \u001b[0mfolder\u001b[0m \u001b[1;32min\u001b[0m \u001b[0mfolders\u001b[0m\u001b[1;33m:\u001b[0m\u001b[1;33m\u001b[0m\u001b[1;33m\u001b[0m\u001b[0m\n",
      "\u001b[1;31mStopIteration\u001b[0m: "
     ]
    }
   ],
   "source": [
    "#joint_image function\n",
    "#step1：将切的图拼好\n",
    "#拼图函数\n",
    "#joint_image function\n",
    "\n",
    "e_folders='D:\\\\HCCW\\\\hcc2'\n",
    "_, folders, _ = next(os.walk(e_folders))\n",
    "print(len(folders))\n",
    "for folder in folders: \n",
    "    _,i_folders,_ = next(os.walk(os.path.join(e_folders, folder)))\n",
    "    for image_folders in i_folders:\n",
    "#         _, image_f, _ = next(os.walk(os.path.join(e_folders, folder,image_folders)))\n",
    "#         print(image_f)       \n",
    "        _, haiyue, _ = next(os.walk(os.path.join(e_folders, folder,image_folders)))\n",
    "        print(haiyue)   \n",
    "        for i in range(len(haiyue)):\n",
    "            _, images, _ = next(os.walk(os.path.join(e_folders, folder,image_folders,haiyue[i])))\n",
    "            img_joint=[]\n",
    "            label_joint=[]\n",
    "            label_t_joint=[]\n",
    "            label_l_joint=[]\n",
    "            for k in range(len(images)):\n",
    "                full_paths=os.path.join(e_folders, folder,image_folders,haiyue[i],str(k))\n",
    "                image_path=os.path.join(full_paths,'image.tiff')\n",
    "                label_path=os.path.join(full_paths,'label.png')\n",
    "                img_joint.append(image_path)\n",
    "                label_joint.append(label_path)\n",
    "                if os.path.exists(os.path.join(full_paths,'label_t.xml')):\n",
    "                    label_t_path=os.path.join(full_paths,'label_t.xml')\n",
    "                    label_t_joint.append(label_t_path)\n",
    "                else:\n",
    "                    label_t_joint.append('')\n",
    "                if os.path.exists(os.path.join(full_paths,'label_l.xml')):\n",
    "                    label_l_path=os.path.join(full_paths,'label_l.xml')\n",
    "                    label_l_joint.append(label_l_path)\n",
    "                else:\n",
    "                    label_l_joint.append('')   \n",
    "            region_path=os.path.join(e_folders,folder,image_folders,str(haiyue[i])[:-1]+'.tiff')\n",
    "            print(region_path)\n",
    "            region = cv2.imread(region_path)\n",
    "#             regions = Image.open(region_path)\n",
    "            n_y, n_x = region.shape[:2]\n",
    "            H=1024\n",
    "            W=1024\n",
    "            num_steps_y = math.ceil(n_y/H)\n",
    "            num_steps_x = math.ceil(n_x/W)\n",
    "            #创建空白图像，大小为n_y,n_x\n",
    "            result_image = Image.new(\"RGB\",(num_steps_x*W,num_steps_y*H))\n",
    "            result_label = Image.new(\"RGB\",(num_steps_x*W,num_steps_y*H))\n",
    "            contours_t=[]\n",
    "            contours_l=[]\n",
    "            for y in range(num_steps_y):\n",
    "                for x in range(num_steps_x):\n",
    "                    image = Image.open(img_joint[num_steps_x*y+x])\n",
    "                    result_image.paste(image,(x *W, y * H))\n",
    "                    label = Image.open(label_joint[num_steps_x*y+x])\n",
    "                    result_label.paste(label,(x *W, y * H))\n",
    "                    if label_t_joint[num_steps_x*y+x]!='':\n",
    "                        contour_tc=xml_contour( label_t_joint[num_steps_x*y+x])\n",
    "                        contour_t=change_number(contour_tc,x,y)\n",
    "                        for j in range(len(contour_t)):\n",
    "                            contours_t.append(contour_t[j])\n",
    "                    if label_l_joint[num_steps_x*y+x]!='':\n",
    "                        contour_lc=xml_contour( label_l_joint[num_steps_x*y+x])\n",
    "                        contour_l=change_number(contour_lc,x,y)\n",
    "                        for l in range(len(contour_l)):\n",
    "                            contours_l.append(contour_l[l])        \n",
    "                        \n",
    "            folder_path=os.path.join(e_folders,folder,image_folders,haiyue[i])        \n",
    "            write_xml(contours_t,folder_path,\"label_t.xml\")    \n",
    "            write_xml(contours_l,folder_path,\"label_l.xml\") \n",
    "            result_image_path=os.path.join(e_folders,folder,image_folders,haiyue[i],\"image.tiff\")\n",
    "            result_label_path=os.path.join(e_folders,folder,image_folders,haiyue[i],\"label.tiff\")\n",
    "            result_image.save(result_image_path)     \n",
    "            result_label.save(result_label_path)\n",
    "print(\"完成！\")"
   ]
  },
  {
   "cell_type": "code",
   "execution_count": 3,
   "metadata": {},
   "outputs": [],
   "source": [
    "def read_xml_contour(xml_path, height, width):\n",
    "    '''\n",
    "    read contour from xml file and return mask\n",
    "    Args:\n",
    "        xml_path: full path of the xml file\n",
    "        height: height of the image\n",
    "        width: width of the image\n",
    "    Return:\n",
    "        mask: np array, shape=(height, width, num_instances), dtype=bool\n",
    "    '''\n",
    "    with open(xml_path, 'r') as fp:\n",
    "        soup = BeautifulSoup(fp.read(), 'xml')\n",
    "    contours = []\n",
    "    for contour in soup.find_all('Contour'):\n",
    "        points = []\n",
    "        for pt in contour.find_all('Pt'):\n",
    "            points.append(tuple(float(v) for v in pt.get_text().split(',')))\n",
    "        contours.append(points)\n",
    "    masks = []\n",
    "    for contour in contours:\n",
    "        img = Image.new('L', (width, height), 0)\n",
    "        ImageDraw.Draw(img).polygon(contour, outline=1, fill=1)\n",
    "        masks.append(np.array(img))   \n",
    "    mask = np.stack(masks, axis=-1)\n",
    "    return mask.astype(bool) # mask should be boolean type\n",
    "\n",
    "#细胞个数计算\n",
    "def load_image(folder_path):\n",
    "    #folder_path 是Roi的文件夹\n",
    "    image_path =  os.path.join(folder_path,\"image.tiff\")\n",
    "    image = cv2.imread(image_path)\n",
    "    image = cv2.cvtColor(image,cv2.COLOR_BGR2RGB)\n",
    "    image = normalizeStaining(image)\n",
    "    return image\n",
    "def load_mask(folder_path):\n",
    "    height=1024\n",
    "    width=1024\n",
    "    MASK_T=[]\n",
    "    MASK_L=[]\n",
    "    class_t=[]\n",
    "    class_l=[]\n",
    "    if os.path.exists(os.path.join(folder_path,'label_t.xml')):\n",
    "        label_t_path = os.path.join(folder_path,'label_t.xml')\n",
    "        mask_t = read_xml_contour(label_t_path, height, width)\n",
    "        class_ids_t = np.ones(mask_t.shape[2], dtype=int)\n",
    "        MASK_T= mask_t\n",
    "        class_t=class_ids_t\n",
    "    else:\n",
    "        class_ids_t=[]\n",
    "        class_t=class_ids_t\n",
    "    if os.path.exists(os.path.join(folder_path,'label_l.xml')):\n",
    "        label_l_path = os.path.join(folder_path,'label_l.xml')\n",
    "        mask_l = read_xml_contour(label_l_path, height, width)\n",
    "        q=mask_l.shape[2]\n",
    "        class_ids_l=np.zeros(mask_l.shape[2],dtype=int)\n",
    "        for i in range(q):\n",
    "            class_ids_l[i]=2 \n",
    "        MASK_L=mask_l\n",
    "        class_l=class_ids_l    \n",
    "    else:\n",
    "        class_ids_l=[]   \n",
    "        class_l=class_ids_l    \n",
    "    \n",
    "    return  MASK_T,class_t,MASK_L,class_l       "
   ]
  },
  {
   "cell_type": "code",
   "execution_count": 4,
   "metadata": {},
   "outputs": [],
   "source": [
    "#细胞个数\n",
    "def ca_number_tumor(folder_path):\n",
    "    #folder_path为一个roi 文件\n",
    "    _,image_path,_=next(os.walk(folder_path))\n",
    "    class_t=[]\n",
    "    class_l=[]\n",
    "    for i in range(len(image_path)):\n",
    "        f_path=os.path.join(folder_path,image_path[i])\n",
    "        mask_t,class_ids_t,mask_l,class_ids_l =load_mask(f_path)\n",
    "        for j in range(len(class_ids_t)):\n",
    "            class_t.append(class_ids_t[j])\n",
    "        for k in range(len(class_ids_l)):\n",
    "            class_l.append(class_ids_l[k])    \n",
    "    return class_t,class_l        "
   ]
  },
  {
   "cell_type": "code",
   "execution_count": 5,
   "metadata": {},
   "outputs": [],
   "source": [
    "def relation(folder_path,board_arg):\n",
    "    region_path = os.path.join(folder_path,\"image.tiff\")\n",
    "    region = cv2.imread(region_path)\n",
    "#     regions = Image.open(region_path)\n",
    "    n_y, n_x = region.shape[:2]\n",
    "    t=[]\n",
    "    l=[]\n",
    "    _,image_path,_=next(os.walk(folder_path))\n",
    "    for i in range(len(image_path)):\n",
    "        label_t_path=os.path.join(folder_path,image_path[i],\"label_t.xml\")\n",
    "        label_l_path=os.path.join(folder_path,image_path[i],\"label_l.xml\")\n",
    "        if os.path.exists(label_l_path):\n",
    "            mask_l = read_xml_contour(label_l_path, 1024,1024)\n",
    "            mask_image_l = utilities.mask_to_label(mask_l)\n",
    "        else:\n",
    "            mask_image_l=[]\n",
    "        if os.path.exists(label_t_path):\n",
    "            mask_t = read_xml_contour(label_t_path, 1024, 1024)\n",
    "            mask_image_t = utilities.mask_to_label(mask_t)            \n",
    "            for i in range(mask_t.shape[2]):\n",
    "                _, contour, _ = cv2.findContours(mask_t[...,i].astype(np.uint8), cv2.RETR_EXTERNAL, cv2.CHAIN_APPROX_NONE)\n",
    "                x,y,w,h = coordinate_regions(contour)\n",
    "                x_c,x_z,y_c,y_z=boardcast_coor(board_arg,x,y,w,h)\n",
    "                if x_c>=0 and y_c>=0 and x_z>=1024 and y_z>=1024:\n",
    "                    croped_t = mask_image_t[y_c:y_z,x_c:x_z]\n",
    "                    croped_t=utilities.label_to_mask(croped_t)\n",
    "                    if mask_image_l!=[]:\n",
    "                        croped_l = mask_image_l[y_c:y_z,x_c:x_z]\n",
    "                        croped_l=utilities.label_to_mask(croped_l)\n",
    "                        l.append(croped_l.shape[2])\n",
    "                    t.append(croped_t.shape[2])\n",
    "                \n",
    "    return t,l    "
   ]
  },
  {
   "cell_type": "code",
   "execution_count": 6,
   "metadata": {},
   "outputs": [],
   "source": [
    "#density函数(计算图像轮廓面积，计算tumor和lyphocyte细胞个数，然后二者比值)\n",
    "def density(folder_path):\n",
    "    #计算图像轮廓面积\n",
    "    #region_path为roi 文件下的image.tiff\n",
    "    region_path = os.path.join(folder_path,\"image.tiff\")\n",
    "    region =cv2.imread(region_path)\n",
    "    gray = cv2.cvtColor(region,cv2.COLOR_BGR2GRAY)\n",
    "    _,contours, _ = cv2.findContours(gray,cv2.RETR_EXTERNAL, cv2.CHAIN_APPROX_NONE)\n",
    "    cnt = contours[0]\n",
    "    area = cv2.contourArea(cnt)\n",
    "    class_t,class_l= ca_number_tumor(folder_path)\n",
    "    tumor_number=len(class_t)\n",
    "    lyphocyte_number=len(class_l)\n",
    "    density_tumor=tumor_number/area\n",
    "    density_lyphocyte=lyphocyte_number/area\n",
    "    return density_tumor,density_lyphocyte"
   ]
  },
  {
   "cell_type": "code",
   "execution_count": 7,
   "metadata": {},
   "outputs": [],
   "source": [
    "#个数分布矩阵fen成1024*1024的格子\n",
    "def num_matrix(folder_path):\n",
    "    region_path=os.path.join(folder_path,\"image.tiff\")\n",
    "    _,image_path,_=next(os.walk(folder_path))\n",
    "    print(image_path)\n",
    "    region = cv2.imread(region_path)\n",
    "#     regions = Image.open(region_path)\n",
    "    n_y, n_x = region.shape[:2]\n",
    "    H=1024\n",
    "    W=1024\n",
    "    num_steps_y = math.ceil(n_y/H)\n",
    "    num_steps_x = math.ceil(n_x/W)\n",
    "    t_n=[]\n",
    "    l_n=[]\n",
    "    for y in range(num_steps_y):\n",
    "        row_t=[]\n",
    "        row_l=[]\n",
    "        for x in range(num_steps_x):\n",
    "            img_path=os.path.join(folder_path,image_path[num_steps_x*y+x])\n",
    "            mask_t,class_ids_t,mask_l,class_ids_l =load_mask(img_path)\n",
    "            row_t.append(len(class_ids_t))\n",
    "            row_l.append(len(class_ids_l))\n",
    "        t_n.append(row_t)    \n",
    "        l_n.append(row_l)\n",
    "    t_n=np.array(t_n)   \n",
    "    l_n=np.array(l_n) \n",
    "    return t_n,l_n"
   ]
  },
  {
   "cell_type": "code",
   "execution_count": 8,
   "metadata": {},
   "outputs": [],
   "source": [
    "#知个数分布矩阵计算统计量：根据病理图像构建个数分布矩阵,知个数分布矩阵计算相关统计量\n",
    "def unifority(t_n,l_n):\n",
    "    tumor_mean=np.mean(t_n)\n",
    "    lyphocyte_mean=np.mean(l_n)\n",
    "    tumor_std=np.std(t_n)\n",
    "    lyphocyte_std=np.std(l_n)\n",
    "    \n",
    "    tumor_var=np.var(t_n)\n",
    "    tumor_median=np.median(t_n)\n",
    "    tumor_max=np.max(t_n)\n",
    "    tumor_min=np.min(t_n)\n",
    "    tumor_ptp=np.ptp(t_n)\n",
    "    tumor_cov=np.min(t_n)\n",
    "    lyphocyte_var=np.var(l_n)\n",
    "    lyphocyte_median=np.median(l_n)\n",
    "    lyphocyte_max=np.max(l_n)\n",
    "    lyphocyte_min=np.min(l_n)  \n",
    "    lyphocyte_ptp=np.ptp(l_n)\n",
    "    lyphocyte_cov=np.min(l_n)    \n",
    "    return tumor_mean,lyphocyte_mean,tumor_std,lyphocyte_std,tumor_var,lyphocyte_var,tumor_median,lyphocyte_median,tumor_max,lyphocyte_max,tumor_min,lyphocyte_min,tumor_ptp,lyphocyte_ptp,tumor_cov,lyphocyte_cov"
   ]
  },
  {
   "cell_type": "code",
   "execution_count": 9,
   "metadata": {},
   "outputs": [],
   "source": [
    "#对于一个区域mask获取矩形四个顶点\n",
    "def coordinate_regions(contours):\n",
    "    max_x=0\n",
    "    max_y=0\n",
    "    min_x=9000000000000\n",
    "    min_y=9000000000000\n",
    "    for i in range(len(contours)):\n",
    "        for contour in contours[i]:\n",
    "            if(min_x)>=contour[0][0]:\n",
    "                min_x=contour[0][0]\n",
    "            if(min_y)>=contour[0][1]:\n",
    "                min_y=contour[0][1]\n",
    "            if(max_x)<=contour[0][0]:\n",
    "                max_x=contour[0][0] \n",
    "            if(max_y)<=contour[0][1]:\n",
    "                max_y=contour[0][1]  \n",
    "    h=int(max_y-min_y)\n",
    "    w=int(max_x-min_x)\n",
    "#     print(\"zuizhi\",max_x,max_y,min_x,min_y)\n",
    "    return int(min_x),int(min_y),w,h"
   ]
  },
  {
   "cell_type": "code",
   "execution_count": 10,
   "metadata": {},
   "outputs": [],
   "source": [
    "#board coor函数\n",
    "def boardcast_coor(ag,x,y,w,h):\n",
    "    x_c=x-ag\n",
    "    x_z=x+w+ag\n",
    "    y_c=y-ag\n",
    "    y_z=y+h+ag\n",
    "    return x_c,x_z,y_c,y_z\n",
    "#mask_image[y0:y1,x0:x1]"
   ]
  },
  {
   "cell_type": "code",
   "execution_count": 11,
   "metadata": {},
   "outputs": [],
   "source": [
    "def relation_Statistics(t,l):\n",
    "    r_tumor_mean=0\n",
    "    r_lyphocyte_mean=0\n",
    "    r_tumor_std=0\n",
    "    r_lyphocyte_std=0\n",
    "    r_tumor_var=0\n",
    "    r_tumor_median=0\n",
    "    r_tumor_max=0\n",
    "    r_tumor_min=0\n",
    "    r_tumor_ptp=0\n",
    "    r_tumor_cov=0\n",
    "    r_lyphocyte_var=0\n",
    "    r_lyphocyte_median=0\n",
    "    r_lyphocyte_max=0\n",
    "    r_lyphocyte_min=0\n",
    "    r_lyphocyte_ptp=0\n",
    "    r_lyphocyte_cov=0\n",
    "    if l!=[] and t!=[]:\n",
    "        r_tumor_mean=np.mean(t)\n",
    "        r_lyphocyte_mean=np.mean(l)\n",
    "        r_tumor_std=np.std(t)\n",
    "        r_lyphocyte_std=np.std(l)\n",
    "        r_tumor_var=np.var(t_n)\n",
    "        r_tumor_median=np.median(t)\n",
    "        r_tumor_max=np.max(t)\n",
    "        r_tumor_min=np.min(t)\n",
    "        r_tumor_ptp=np.ptp(t)\n",
    "        r_tumor_cov=np.min(t)\n",
    "        r_lyphocyte_var=np.var(l)\n",
    "        r_lyphocyte_median=np.median(l)\n",
    "        r_lyphocyte_max=np.max(l)\n",
    "        r_lyphocyte_min=np.min(l)  \n",
    "        r_lyphocyte_ptp=np.ptp(l)\n",
    "        r_lyphocyte_cov=np.min(l)\n",
    "    elif l==[] and t!=[]:\n",
    "        r_tumor_mean=np.mean(t)\n",
    "        r_lyphocyte_mean=np.mean(l)\n",
    "        r_tumor_std=np.std(t)\n",
    "        r_lyphocyte_std=np.std(l)\n",
    "        r_tumor_var=np.var(t_n)\n",
    "        r_tumor_median=np.median(t)\n",
    "        r_tumor_max=np.max(t)\n",
    "        r_tumor_min=np.min(t)\n",
    "        r_tumor_ptp=np.ptp(t)\n",
    "        r_tumor_cov=np.min(t)\n",
    "        r_lyphocyte_var=0\n",
    "        r_lyphocyte_median=0\n",
    "        r_lyphocyte_max=0\n",
    "        r_lyphocyte_min=0 \n",
    "        r_lyphocyte_ptp=0\n",
    "        r_lyphocyte_cov=0\n",
    "    elif l!=[] and t==[]:    \n",
    "        r_tumor_mean=0\n",
    "        r_lyphocyte_mean=np.mean(l)\n",
    "        r_tumor_std=0\n",
    "        r_lyphocyte_std=np.std(l)\n",
    "        r_tumor_var=0\n",
    "        r_tumor_median=np.median(t)\n",
    "        r_tumor_max=0\n",
    "        r_tumor_min=0\n",
    "        r_tumor_ptp=0\n",
    "        r_tumor_cov=0\n",
    "        r_lyphocyte_var=np.var(l)\n",
    "        r_lyphocyte_median=np.median(l)\n",
    "        r_lyphocyte_max=np.max(l)\n",
    "        r_lyphocyte_min=np.min(l)  \n",
    "        r_lyphocyte_ptp=np.ptp(l)\n",
    "        r_lyphocyte_cov=np.min(l)        \n",
    "    return r_tumor_mean,r_lyphocyte_mean,r_tumor_std,r_lyphocyte_std,r_tumor_var,r_lyphocyte_var,r_tumor_median,r_lyphocyte_median,r_tumor_max,r_lyphocyte_max,r_tumor_min,r_lyphocyte_min,r_tumor_ptp,r_lyphocyte_ptp,r_tumor_cov,r_lyphocyte_cov"
   ]
  },
  {
   "cell_type": "code",
   "execution_count": 12,
   "metadata": {
    "scrolled": true
   },
   "outputs": [
    {
     "name": "stdout",
     "output_type": "stream",
     "text": [
      "E:\\HIAYUE\\AT\\TCGA-BW-A5NQ-01Z-00-DX1.F5543010-CBEB-4BA3-8402-1332A8617A76\\cii_image.csv\n",
      "E:\\HIAYUE\\AT\\TCGA-CC-5260-01Z-00-DX1.48FDF3FB-5ABA-4456-84D7-564C94ACDD85\\cii_image.csv\n",
      "E:\\HIAYUE\\AT\\TCGA-DD-A118-01Z-00-DX1.60B26023-8F1C-4373-A5A5-1279162F4076\\cii_image.csv\n",
      "E:\\HIAYUE\\AT\\TCGA-DD-A11C-01Z-00-DX1.FBF80337-ED73-4611-8E0F-F3FE8A666DB9\\cii_image.csv\n",
      "E:\\HIAYUE\\AT\\TCGA-DD-AACC-01Z-00-DX1.5B3061BB-6716-4253-8510-4D553CBF58A9\\cii_image.csv\n",
      "E:\\HIAYUE\\AT\\TCGA-DD-AAD2-01Z-00-DX1.B91E4434-883A-43B5-8655-993FA4472F73\\cii_image.csv\n",
      "E:\\HIAYUE\\AT\\TCGA-DD-AAD3-01Z-00-DX1.DB86DCF0-4571-4E47-BDA5-FFD44D7D950E\\cii_image.csv\n",
      "E:\\HIAYUE\\AT\\TCGA-DD-AAD6-01Z-00-DX1.FC66F738-8A41-473A-91A2-3C541294E934\\cii_image.csv\n",
      "E:\\HIAYUE\\AT\\TCGA-DD-AADA-01Z-00-DX1.9008B43F-5955-44BB-9CDE-0294750C6F09\\cii_image.csv\n",
      "E:\\HIAYUE\\AT\\TCGA-DD-AAE6-01Z-00-DX1.A8DE9B19-8C85-47AE-A32A-38AB6F696CE3\\cii_image.csv\n",
      "E:\\HIAYUE\\AT\\TCGA-DD-AAE9-01Z-00-DX1.D42910FF-CD70-4747-8BA2-3701A778E1F7\\cii_image.csv\n",
      "E:\\HIAYUE\\AT\\TCGA-DD-AAVP-01Z-00-DX1.44A8666F-DF8B-4707-9669-08CCE90486FC\\cii_image.csv\n",
      "E:\\HIAYUE\\AT\\TCGA-DD-AAVY-01Z-00-DX1.2EA5B700-35D7-49C6-AA0D-C45AF6DEE9C6\\cii_image.csv\n",
      "E:\\HIAYUE\\AT\\TCGA-DD-AAW3-01Z-00-DX1.A1804EF9-E7AE-4D04-969F-DE0D2AC55916\\cii_image.csv\n",
      "E:\\HIAYUE\\AT\\TCGA-ED-A7PZ-01Z-00-DX1.CD9C0D80-4E6C-40EF-BF56-54BD7EFDBDC1\\cii_image.csv\n",
      "E:\\HIAYUE\\AT\\TCGA-ED-A7XO-01Z-00-DX1.376C5681-8D9D-4D2E-AA22-8A0E2AE16FF5\\cii_image.csv\n",
      "E:\\HIAYUE\\AT\\TCGA-ED-A8O6-01Z-00-DX1.D202A660-7F62-42F3-85C2-9D71C4DCB89C\\cii_image.csv\n",
      "E:\\HIAYUE\\AT\\TCGA-ED-A97K-01Z-00-DX1.C2B446BC-DD52-4BAE-A098-0FBDADC70445\\cii_image.csv\n",
      "E:\\HIAYUE\\AT\\TCGA-G3-A3CK-01Z-00-DX1.A21078FF-0453-4FB6-9CE6-2C5085A1D303\\cii_image.csv\n",
      "E:\\HIAYUE\\AT\\TCGA-G3-A5SI-01Z-00-DX1.B9F9513E-0585-48A5-B698-6084A1FC7A3B\\cii_image.csv\n",
      "E:\\HIAYUE\\AT\\TCGA-G3-AAV5-01Z-00-DX1.C61A5C6A-9BF2-4AAB-8203-B4896570C1AB\\cii_image.csv\n",
      "E:\\HIAYUE\\AT\\TCGA-K7-A6G5-01Z-00-DX1.6681DB17-D11D-40DE-829C-2DB425BD3083\\cii_image.csv\n",
      "E:\\HIAYUE\\AT\\TCGA-RC-A7SF-01Z-00-DX1.F37E60B9-A340-4758-BE3C-C4675F6F5671\\cii_image.csv\n",
      "E:\\HIAYUE\\AT\\TCGA-UB-A7MD-01Z-00-DX1.F49A3B9F-C7D1-4A58-924E-E759892C5DD4\\cii_image.csv\n",
      "E:\\HIAYUE\\AT\\TCGA-WJ-A86L-01Z-00-DX1.2EB59E0F-D5B9-4212-8E31-2CA8529722A1\\cii_image.csv\n",
      "E:\\HIAYUE\\AT\\TCGA-ZP-A9D2-01Z-00-DX1.2C34922F-2CC1-46DE-B98B-24FA96351803\\cii_image.csv\n",
      "E:\\HIAYUE\\AT\\TCGA-ZS-A9CE-01Z-00-DX1.EA6A0A1F-ACFD-4A6C-A7C4-7CB19EA4BAFB\\cii_image.csv\n",
      "E:\\HIAYUE\\CT\\TCGA-DD-AAC8-01Z-00-DX1.9B06A570-EE68-494D-8798-8375AB92F895\\Cc0_CTROI_\n",
      "['0', '1', '10', '11', '12', '13', '14', '15', '16', '17', '18', '19', '2', '20', '21', '22', '23', '24', '25', '26', '27', '28', '29', '3', '30', '31', '32', '33', '34', '35', '4', '5', '6', '7', '8', '9']\n"
     ]
    },
    {
     "name": "stderr",
     "output_type": "stream",
     "text": [
      "c:\\users\\yi\\anaconda3\\envs\\tensorflow-gpu\\lib\\site-packages\\ipykernel_launcher.py:29: DeprecationWarning: elementwise comparison failed; this will raise an error in the future.\n"
     ]
    },
    {
     "name": "stdout",
     "output_type": "stream",
     "text": [
      "E:\\HIAYUE\\CT\\TCGA-DD-AAC8-01Z-00-DX1.9B06A570-EE68-494D-8798-8375AB92F895\\cii_image.csv\n",
      "E:\\HIAYUE\\CT\\TCGA-DD-AACL-01Z-00-DX1.C5A948CF-45E0-4CDB-9A3C-01F8D4715FF2\\Cc0_CTROI_\n",
      "['0', '1', '2', '3', '4', '5', '6', '7', '8']\n"
     ]
    },
    {
     "name": "stderr",
     "output_type": "stream",
     "text": [
      "c:\\users\\yi\\anaconda3\\envs\\tensorflow-gpu\\lib\\site-packages\\numpy\\core\\fromnumeric.py:3118: RuntimeWarning: Mean of empty slice.\n",
      "  out=out, **kwargs)\n",
      "c:\\users\\yi\\anaconda3\\envs\\tensorflow-gpu\\lib\\site-packages\\numpy\\core\\_methods.py:85: RuntimeWarning: invalid value encountered in double_scalars\n",
      "  ret = ret.dtype.type(ret / rcount)\n",
      "c:\\users\\yi\\anaconda3\\envs\\tensorflow-gpu\\lib\\site-packages\\numpy\\core\\_methods.py:140: RuntimeWarning: Degrees of freedom <= 0 for slice\n",
      "  keepdims=keepdims)\n",
      "c:\\users\\yi\\anaconda3\\envs\\tensorflow-gpu\\lib\\site-packages\\numpy\\core\\_methods.py:110: RuntimeWarning: invalid value encountered in true_divide\n",
      "  arrmean, rcount, out=arrmean, casting='unsafe', subok=False)\n",
      "c:\\users\\yi\\anaconda3\\envs\\tensorflow-gpu\\lib\\site-packages\\numpy\\core\\_methods.py:132: RuntimeWarning: invalid value encountered in double_scalars\n",
      "  ret = ret.dtype.type(ret / rcount)\n"
     ]
    },
    {
     "name": "stdout",
     "output_type": "stream",
     "text": [
      "E:\\HIAYUE\\CT\\TCGA-DD-AACL-01Z-00-DX1.C5A948CF-45E0-4CDB-9A3C-01F8D4715FF2\\cii_image.csv\n",
      "E:\\HIAYUE\\CT\\TCGA-DD-AAD2-01Z-00-DX1.B91E4434-883A-43B5-8655-993FA4472F73\\Cc0_CTROI_\n",
      "['0', '1', '10', '11', '12', '13', '14', '15', '16', '17', '18', '19', '2', '3', '4', '5', '6', '7', '8', '9']\n",
      "E:\\HIAYUE\\CT\\TCGA-DD-AAD2-01Z-00-DX1.B91E4434-883A-43B5-8655-993FA4472F73\\cii_image.csv\n",
      "E:\\HIAYUE\\CT\\TCGA-DD-AAD3-01Z-00-DX1.DB86DCF0-4571-4E47-BDA5-FFD44D7D950E\\Cc0_CTROI_\n",
      "['0', '1', '10', '11', '12', '13', '14', '15', '16', '17', '18', '19', '2', '20', '21', '22', '23', '24', '25', '26', '27', '28', '29', '3', '30', '31', '32', '33', '34', '35', '36', '37', '38', '39', '4', '40', '41', '5', '6', '7', '8', '9']\n",
      "E:\\HIAYUE\\CT\\TCGA-DD-AAD3-01Z-00-DX1.DB86DCF0-4571-4E47-BDA5-FFD44D7D950E\\cii_image.csv\n",
      "E:\\HIAYUE\\CT\\TCGA-DD-AAEE-01Z-00-DX1.7DB85E16-D3BE-4519-9B84-AA6C18172F96\\Cc0_CTROI_\n",
      "['0', '1', '2', '3', '4', '5']\n",
      "E:\\HIAYUE\\CT\\TCGA-DD-AAEE-01Z-00-DX1.7DB85E16-D3BE-4519-9B84-AA6C18172F96\\cii_image.csv\n",
      "E:\\HIAYUE\\CT\\TCGA-DD-AAVP-01Z-00-DX1.44A8666F-DF8B-4707-9669-08CCE90486FC\\Cc0_CTROI_\n",
      "['0', '1', '10', '100', '101', '102', '103', '104', '105', '106', '107', '108', '109', '11', '110', '111', '112', '113', '114', '115', '116', '117', '118', '119', '12', '120', '121', '122', '123', '124', '125', '126', '127', '128', '129', '13', '130', '131', '132', '133', '134', '135', '136', '137', '138', '139', '14', '140', '141', '142', '143', '144', '145', '146', '147', '148', '149', '15', '150', '151', '152', '153', '16', '17', '18', '19', '2', '20', '21', '22', '23', '24', '25', '26', '27', '28', '29', '3', '30', '31', '32', '33', '34', '35', '36', '37', '38', '39', '4', '40', '41', '42', '43', '44', '45', '46', '47', '48', '49', '5', '50', '51', '52', '53', '54', '55', '56', '57', '58', '59', '6', '60', '61', '62', '63', '64', '65', '66', '67', '68', '69', '7', '70', '71', '72', '73', '74', '75', '76', '77', '78', '79', '8', '80', '81', '82', '83', '84', '85', '86', '87', '88', '89', '9', '90', '91', '92', '93', '94', '95', '96', '97', '98', '99']\n",
      "E:\\HIAYUE\\CT\\TCGA-DD-AAVP-01Z-00-DX1.44A8666F-DF8B-4707-9669-08CCE90486FC\\cii_image.csv\n",
      "E:\\HIAYUE\\CT\\TCGA-DD-AAW0-01Z-00-DX1.6609C7DD-A1C1-401A-88C7-4C0FDADC11EE\\Cc0_CTROI_\n",
      "['0', '1', '10', '100', '101', '102', '103', '104', '105', '106', '107', '108', '109', '11', '110', '111', '112', '113', '114', '115', '116', '117', '118', '119', '12', '120', '121', '122', '123', '124', '125', '126', '127', '128', '129', '13', '130', '131', '132', '133', '134', '135', '136', '137', '138', '139', '14', '140', '141', '142', '143', '15', '16', '17', '18', '19', '2', '20', '21', '22', '23', '24', '25', '26', '27', '28', '29', '3', '30', '31', '32', '33', '34', '35', '36', '37', '38', '39', '4', '40', '41', '42', '43', '44', '45', '46', '47', '48', '49', '5', '50', '51', '52', '53', '54', '55', '56', '57', '58', '59', '6', '60', '61', '62', '63', '64', '65', '66', '67', '68', '69', '7', '70', '71', '72', '73', '74', '75', '76', '77', '78', '79', '8', '80', '81', '82', '83', '84', '85', '86', '87', '88', '89', '9', '90', '91', '92', '93', '94', '95', '96', '97', '98', '99']\n",
      "E:\\HIAYUE\\CT\\TCGA-DD-AAW0-01Z-00-DX1.6609C7DD-A1C1-401A-88C7-4C0FDADC11EE\\cii_image.csv\n",
      "E:\\HIAYUE\\CT\\TCGA-ED-A7PZ-01Z-00-DX1.CD9C0D80-4E6C-40EF-BF56-54BD7EFDBDC1\\Cc0_CTROI_\n",
      "['0', '1', '10', '11', '12', '13', '14', '15', '16', '17', '18', '19', '2', '20', '21', '22', '23', '24', '25', '26', '27', '28', '29', '3', '30', '31', '32', '33', '34', '35', '36', '37', '38', '39', '4', '40', '41', '5', '6', '7', '8', '9']\n",
      "E:\\HIAYUE\\CT\\TCGA-ED-A7PZ-01Z-00-DX1.CD9C0D80-4E6C-40EF-BF56-54BD7EFDBDC1\\cii_image.csv\n",
      "E:\\HIAYUE\\CT\\TCGA-ED-A7XO-01Z-00-DX1.376C5681-8D9D-4D2E-AA22-8A0E2AE16FF5\\Cc0_CTROI_\n",
      "['0', '1', '10', '11', '12', '13', '14', '15', '16', '17', '18', '19', '2', '20', '21', '22', '23', '24', '25', '26', '27', '3', '4', '5', '6', '7', '8', '9']\n",
      "E:\\HIAYUE\\CT\\TCGA-ED-A7XO-01Z-00-DX1.376C5681-8D9D-4D2E-AA22-8A0E2AE16FF5\\cii_image.csv\n",
      "E:\\HIAYUE\\CT\\TCGA-ED-A8O5-01Z-00-DX1.5CEE6AED-3D4B-4E72-B166-C502476D3A09\\Cc0_CTROI_\n",
      "['0', '1', '10', '11', '12', '13', '14', '15', '16', '17', '18', '19', '2', '20', '21', '22', '23', '24', '25', '26', '27', '28', '29', '3', '30', '31', '32', '33', '34', '35', '36', '37', '38', '39', '4', '40', '41', '42', '43', '44', '45', '46', '47', '48', '5', '6', '7', '8', '9']\n",
      "E:\\HIAYUE\\CT\\TCGA-ED-A8O5-01Z-00-DX1.5CEE6AED-3D4B-4E72-B166-C502476D3A09\\cii_image.csv\n",
      "E:\\HIAYUE\\CT\\TCGA-G3-A5SK-01Z-00-DX1.11F1AC62-2C35-4767-9EEA-455157CBBC0B\\Cc0_CTROI_\n",
      "['0', '1', '10', '11', '12', '13', '14', '15', '16', '17', '18', '19', '2', '20', '21', '22', '23', '24', '25', '26', '27', '28', '29', '3', '30', '31', '32', '33', '34', '35', '4', '5', '6', '7', '8', '9']\n",
      "E:\\HIAYUE\\CT\\TCGA-G3-A5SK-01Z-00-DX1.11F1AC62-2C35-4767-9EEA-455157CBBC0B\\cii_image.csv\n",
      "E:\\HIAYUE\\CT\\TCGA-G3-AAV5-01Z-00-DX1.C61A5C6A-9BF2-4AAB-8203-B4896570C1AB\\Cc0_CTROI_\n",
      "['0', '1', '10', '100', '101', '102', '103', '104', '105', '106', '107', '108', '109', '11', '12', '13', '14', '15', '16', '17', '18', '19', '2', '20', '21', '22', '23', '24', '25', '26', '27', '28', '29', '3', '30', '31', '32', '33', '34', '35', '36', '37', '38', '39', '4', '40', '41', '42', '43', '44', '45', '46', '47', '48', '49', '5', '50', '51', '52', '53', '54', '55', '56', '57', '58', '59', '6', '60', '61', '62', '63', '64', '65', '66', '67', '68', '69', '7', '70', '71', '72', '73', '74', '75', '76', '77', '78', '79', '8', '80', '81', '82', '83', '84', '85', '86', '87', '88', '89', '9', '90', '91', '92', '93', '94', '95', '96', '97', '98', '99']\n",
      "E:\\HIAYUE\\CT\\TCGA-G3-AAV5-01Z-00-DX1.C61A5C6A-9BF2-4AAB-8203-B4896570C1AB\\cii_image.csv\n",
      "E:\\HIAYUE\\CT\\TCGA-K7-A6G5-01Z-00-DX1.6681DB17-D11D-40DE-829C-2DB425BD3083\\Cc0_CTROI_\n",
      "['0', '1', '10', '11', '12', '13', '14', '15', '16', '17', '18', '19', '2', '20', '21', '22', '23', '24', '25', '26', '27', '28', '29', '3', '30', '31', '32', '33', '34', '35', '36', '37', '38', '39', '4', '40', '41', '5', '6', '7', '8', '9']\n",
      "E:\\HIAYUE\\CT\\TCGA-K7-A6G5-01Z-00-DX1.6681DB17-D11D-40DE-829C-2DB425BD3083\\cii_image.csv\n",
      "E:\\HIAYUE\\CT\\TCGA-ZP-A9D2-01Z-00-DX1.2C34922F-2CC1-46DE-B98B-24FA96351803\\cii_image.csv\n",
      "E:\\HIAYUE\\CT\\TCGA-ZS-A9CE-01Z-00-DX1.EA6A0A1F-ACFD-4A6C-A7C4-7CB19EA4BAFB\\Cc0_CTROI_\n",
      "['0', '1', '10', '100', '101', '102', '103', '104', '105', '106', '107', '108', '109', '11', '110', '111', '112', '113', '114', '115', '116', '117', '118', '119', '12', '13', '14', '15', '16', '17', '18', '19', '2', '20', '21', '22', '23', '24', '25', '26', '27', '28', '29', '3', '30', '31', '32', '33', '34', '35', '36', '37', '38', '39', '4', '40', '41', '42', '43', '44', '45', '46', '47', '48', '49', '5', '50', '51', '52', '53', '54', '55', '56', '57', '58', '59', '6', '60', '61', '62', '63', '64', '65', '66', '67', '68', '69', '7', '70', '71', '72', '73', '74', '75', '76', '77', '78', '79', '8', '80', '81', '82', '83', '84', '85', '86', '87', '88', '89', '9', '90', '91', '92', '93', '94', '95', '96', '97', '98', '99']\n",
      "E:\\HIAYUE\\CT\\TCGA-ZS-A9CE-01Z-00-DX1.EA6A0A1F-ACFD-4A6C-A7C4-7CB19EA4BAFB\\cii_image.csv\n"
     ]
    }
   ],
   "source": [
    "#main_function\n",
    "#第一步找到所有的roi文件，只找除了A的文件\n",
    "import time\n",
    "import pandas as pd\n",
    "e_folders='E:\\\\HIAYUE'\n",
    "_, folders, _ = next(os.walk(e_folders))\n",
    "for folder in folders: \n",
    "    _,i_folders,_ = next(os.walk(os.path.join(e_folders, folder)))\n",
    "    for image_folders in i_folders:\n",
    "        _, image, _ = next(os.walk(os.path.join(e_folders, folder,image_folders)))\n",
    "        haiyue=[]\n",
    "        haiyue1=[]\n",
    "        for i in range(len(image)):\n",
    "            if image[i].startswith('A') or image[i].startswith('_') :\n",
    "                haiyue1.append(0)\n",
    "            else:   \n",
    "                haiyue.append(image[i])\n",
    "        features=[]\n",
    "        index=[]\n",
    "        for hai in haiyue:\n",
    "            folder_path = os.path.join(e_folders, folder,image_folders,hai)\n",
    "            print(folder_path)\n",
    "            #对于密度特征计算的话一个文件两个值直接保存就行\n",
    "            density_tumor,density_lyphocyte = density(folder_path)\n",
    "            #对于分布特征：\n",
    "            t_n,l_n=num_matrix(folder_path)\n",
    "            u_tumor_mean,u_lyphocyte_mean,u_tumor_std,u_lyphocyte_std,u_tumor_var,u_lyphocyte_var,u_tumor_median,u_lyphocyte_median,u_tumor_max,u_lyphocyte_max,u_tumor_min,u_lyphocyte_min,u_tumor_ptp,u_lyphocyte_ptp,u_tumor_cov,u_lyphocyte_cov= unifority(t_n,l_n)\n",
    "            #对于关系特征\n",
    "            t,l=relation(folder_path,100)\n",
    "#             print(t,l)\n",
    "            tt,ll=relation(folder_path,50)\n",
    "            r_tumor_mean2,r_lyphocyte_mean2,r_tumor_std2,r_lyphocyte_std2,r_tumor_var2,r_lyphocyte_var2,r_tumor_median2,r_lyphocyte_median2,r_tumor_max2,r_lyphocyte_max2,r_tumor_min2,r_lyphocyte_min2,r_tumor_ptp2,r_lyphocyte_ptp2,r_tumor_cov2,r_lyphocyte_cov2 = relation_Statistics(tt,ll)\n",
    "            r_tumor_mean,r_lyphocyte_mean,r_tumor_std,r_lyphocyte_std,r_tumor_var,r_lyphocyte_var,r_tumor_median,r_lyphocyte_median,r_tumor_max,r_lyphocyte_max,r_tumor_min,r_lyphocyte_min,r_tumor_ptp,r_lyphocyte_ptp,r_tumor_cov,r_lyphocyte_cov   =relation_Statistics(t,l)\n",
    "#             feature=[density_tumor,density_lyphocyte,u_tumor_mean,u_lyphocyte_mean,u_tumor_std,u_lyphocyte_std,u_tumor_var,u_lyphocyte_var,u_tumor_median,u_lyphocyte_median,u_tumor_max,u_lyphocyte_max,u_tumor_min,u_lyphocyte_min,u_tumor_ptp,u_lyphocyte_ptp,r_tumor_mean,r_lyphocyte_mean,r_tumor_std,r_lyphocyte_std,r_tumor_var,r_lyphocyte_var,r_tumor_median,r_lyphocyte_median,r_tumor_max,r_lyphocyte_max,r_tumor_min,r_lyphocyte_min,r_tumor_ptp,r_lyphocyte_ptp,tumor_cov,lyphocyte_cov,r_tumor_mean2,r_lyphocyte_mean2,r_tumor_std2,r_lyphocyte_std2,r_tumor_var2,r_lyphocyte_var2,r_tumor_median2,r_lyphocyte_median2,r_tumor_max2,lyphocyte_max2,tumor_min2,lyphocyte_min2,tumor_ptp2,lyphocyte_ptp2,tumor_cov2,lyphocyte_cov2]\n",
    "            feature=[density_tumor,density_lyphocyte,u_tumor_mean,u_lyphocyte_mean,u_tumor_std,u_lyphocyte_std,u_tumor_var,u_lyphocyte_var,u_tumor_median,u_lyphocyte_median,u_tumor_max,u_lyphocyte_max,u_tumor_min,u_lyphocyte_min,u_tumor_ptp,u_lyphocyte_ptp,r_tumor_mean,r_lyphocyte_mean,r_tumor_std,r_lyphocyte_std,r_tumor_var,r_lyphocyte_var,r_tumor_median,r_lyphocyte_median,r_tumor_max,r_lyphocyte_max,r_tumor_min,r_lyphocyte_min,r_tumor_ptp,r_lyphocyte_ptp,r_tumor_cov,r_lyphocyte_cov  ,r_tumor_mean2,r_lyphocyte_mean2,r_tumor_std2,r_lyphocyte_std2,r_tumor_var2,r_lyphocyte_var2,r_tumor_median2,r_lyphocyte_median2,r_tumor_max2,r_lyphocyte_max2,r_tumor_min2,r_lyphocyte_min2,r_tumor_ptp2,r_lyphocyte_ptp2,r_tumor_cov2,r_lyphocyte_cov2]\n",
    "            features.append(feature)\n",
    "            index.append(str(hai))\n",
    "        name=[\"density_tumor\",\"density_lyphocyte\",\"u_tumor_mean\",\"u_lyphocyte_mean\",\"u_tumor_std\",\"u_lyphocyte_std \",\"u_tumor_var\",\"u_lyphocyte_var\",\"u_tumor_median\",\"u_lyphocyte_median\",\"u_tumor_max\",\"u_lyphocyte_max\",\"u_tumor_min\",\"u_lyphocyte_min\",\"u_tumor_ptp\",\"u_lyphocyte_ptp\",\"r_tumor_mean\",\"r_lyphocyte_mean\",\"r_tumor_std\",\"r_lyphocyte_std\",\"r_tumor_var\",\"r_lyphocyte_var\",\"r_tumor_median\",\"r_lyphocyte_median\",\"r_tumor_max\",\"r_ly_max\",\"r_tumor_min\",\"r_ly_min\",\"r_tumor_ptp\",\"r_lyphocyte_ptp\",\"r_tumor_cov\",\"r_lyphocyte_cov\",\"r_tumor_mean2\",\"r_lyphocyte_mean2\",\"r_tumor_std2\",\"r_lyphocyte_std2\",\"r_tumor_var2\",\"r_lyphocyte_var2\",\"r_tumor_median2\",\"r_lyphocyte_median2\",\"r_tumor_max2\",\"r_ly_max2\",\"r_tumor_min2\",\"r_ly_min2\",\"r_tumor_ptp2\",\"r_lyphocyte_ptp2\",\"r_tumor_cov2\",\"r_lyphocyte_cov2\"]\n",
    "        CVS = pd.DataFrame(columns=name,data=features,index=index)\n",
    "        f_p=os.path.join(e_folders, folder,image_folders)\n",
    "        csv_path=os.path.join(f_p,\"cii_image.csv\")\n",
    "        print(csv_path)\n",
    "        CVS.to_csv(csv_path,encoding='gbk')\n",
    "            \n",
    "            \n",
    "            \n",
    "            \n"
   ]
  },
  {
   "cell_type": "code",
   "execution_count": null,
   "metadata": {},
   "outputs": [],
   "source": [
    "print(features)"
   ]
  },
  {
   "cell_type": "code",
   "execution_count": 23,
   "metadata": {},
   "outputs": [
    {
     "name": "stdout",
     "output_type": "stream",
     "text": [
      "['Cc0_CTROI_', 'Cc1_CTROI_', 'Cc2_CTROI_', 'Ii0_IMROI_']\n"
     ]
    }
   ],
   "source": [
    "print(index)"
   ]
  },
  {
   "cell_type": "code",
   "execution_count": null,
   "metadata": {},
   "outputs": [],
   "source": []
  },
  {
   "cell_type": "code",
   "execution_count": null,
   "metadata": {},
   "outputs": [],
   "source": []
  },
  {
   "cell_type": "code",
   "execution_count": null,
   "metadata": {},
   "outputs": [],
   "source": []
  },
  {
   "cell_type": "code",
   "execution_count": null,
   "metadata": {},
   "outputs": [],
   "source": []
  },
  {
   "cell_type": "code",
   "execution_count": null,
   "metadata": {},
   "outputs": [],
   "source": []
  },
  {
   "cell_type": "code",
   "execution_count": null,
   "metadata": {},
   "outputs": [],
   "source": []
  },
  {
   "cell_type": "code",
   "execution_count": null,
   "metadata": {},
   "outputs": [],
   "source": []
  },
  {
   "cell_type": "code",
   "execution_count": null,
   "metadata": {},
   "outputs": [],
   "source": []
  },
  {
   "cell_type": "code",
   "execution_count": null,
   "metadata": {},
   "outputs": [],
   "source": []
  },
  {
   "cell_type": "code",
   "execution_count": null,
   "metadata": {},
   "outputs": [],
   "source": []
  },
  {
   "cell_type": "code",
   "execution_count": null,
   "metadata": {},
   "outputs": [],
   "source": []
  },
  {
   "cell_type": "code",
   "execution_count": null,
   "metadata": {},
   "outputs": [],
   "source": []
  },
  {
   "cell_type": "code",
   "execution_count": null,
   "metadata": {},
   "outputs": [],
   "source": []
  },
  {
   "cell_type": "code",
   "execution_count": null,
   "metadata": {},
   "outputs": [],
   "source": []
  },
  {
   "cell_type": "code",
   "execution_count": null,
   "metadata": {},
   "outputs": [],
   "source": []
  },
  {
   "cell_type": "code",
   "execution_count": null,
   "metadata": {},
   "outputs": [],
   "source": []
  },
  {
   "cell_type": "code",
   "execution_count": null,
   "metadata": {},
   "outputs": [],
   "source": []
  },
  {
   "cell_type": "code",
   "execution_count": null,
   "metadata": {},
   "outputs": [],
   "source": []
  },
  {
   "cell_type": "code",
   "execution_count": null,
   "metadata": {},
   "outputs": [],
   "source": []
  },
  {
   "cell_type": "code",
   "execution_count": null,
   "metadata": {},
   "outputs": [],
   "source": []
  },
  {
   "cell_type": "code",
   "execution_count": null,
   "metadata": {},
   "outputs": [],
   "source": []
  },
  {
   "cell_type": "code",
   "execution_count": 62,
   "metadata": {
    "scrolled": true
   },
   "outputs": [
    {
     "name": "stdout",
     "output_type": "stream",
     "text": [
      "130\n",
      "zuizhi 170 908 133 861\n",
      "[[[False False False ... False False False]\n",
      "  [False False False ... False False False]\n",
      "  [False False False ... False False False]\n",
      "  ...\n",
      "  [False False False ... False False False]\n",
      "  [False False False ... False False False]\n",
      "  [False False False ... False False False]]\n",
      "\n",
      " [[False False False ... False False False]\n",
      "  [False False False ... False False False]\n",
      "  [False False False ... False False False]\n",
      "  ...\n",
      "  [False False False ... False False False]\n",
      "  [False False False ... False False False]\n",
      "  [False False False ... False False False]]\n",
      "\n",
      " [[False False False ... False False False]\n",
      "  [False False False ... False False False]\n",
      "  [False False False ... False False False]\n",
      "  ...\n",
      "  [False False False ... False False False]\n",
      "  [False False False ... False False False]\n",
      "  [False False False ... False False False]]\n",
      "\n",
      " ...\n",
      "\n",
      " [[False False False ... False False False]\n",
      "  [False False False ... False False False]\n",
      "  [False False False ... False False False]\n",
      "  ...\n",
      "  [False False False ... False False False]\n",
      "  [False False False ... False False False]\n",
      "  [False False False ... False False False]]\n",
      "\n",
      " [[False False False ... False False False]\n",
      "  [False False False ... False False False]\n",
      "  [False False False ... False False False]\n",
      "  ...\n",
      "  [False False False ... False False False]\n",
      "  [False False False ... False False False]\n",
      "  [False False False ... False False False]]\n",
      "\n",
      " [[False False False ... False False False]\n",
      "  [False False False ... False False False]\n",
      "  [False False False ... False False False]\n",
      "  ...\n",
      "  [False False False ... False False False]\n",
      "  [False False False ... False False False]\n",
      "  [False False False ... False False False]]]\n",
      "29\n"
     ]
    },
    {
     "data": {
      "image/png": "[encoded data removed]",
      "text/plain": [
       "<Figure size 432x288 with 1 Axes>"
      ]
     },
     "metadata": {
      "needs_background": "light"
     },
     "output_type": "display_data"
    }
   ],
   "source": []
  },
  {
   "cell_type": "code",
   "execution_count": null,
   "metadata": {},
   "outputs": [],
   "source": []
  },
  {
   "cell_type": "code",
   "execution_count": null,
   "metadata": {},
   "outputs": [],
   "source": []
  },
  {
   "cell_type": "code",
   "execution_count": null,
   "metadata": {},
   "outputs": [],
   "source": []
  },
  {
   "cell_type": "code",
   "execution_count": null,
   "metadata": {},
   "outputs": [],
   "source": []
  },
  {
   "cell_type": "code",
   "execution_count": null,
   "metadata": {},
   "outputs": [],
   "source": []
  },
  {
   "cell_type": "code",
   "execution_count": null,
   "metadata": {},
   "outputs": [],
   "source": []
  },
  {
   "cell_type": "code",
   "execution_count": null,
   "metadata": {},
   "outputs": [],
   "source": []
  },
  {
   "cell_type": "code",
   "execution_count": null,
   "metadata": {},
   "outputs": [],
   "source": [
    "##计算\n",
    "#step1:\n",
    "height=1024\n",
    "width=1024\n",
    "label_t_path=\"D:\\\\HCCW\\\\HCCH\\\\1-7\\\\111\\\\Cc0_CTROI_\\\\1\\\\label_t.xml\"\n",
    "mask_t = read_xml_contour(label_t_path, height, width)\n",
    "print(mask_t.shape[2])\n",
    "for i in range(mask_t.shape[2]):\n",
    "    _, contour, _ = cv2.findContours(mask_t[...,i].astype(np.uint8), cv2.RETR_EXTERNAL, cv2.CHAIN_APPROX_NONE)\n",
    "#     print(contour)\n",
    "    x,y,w,h = coordinate_regions(contour)\n",
    "    break\n",
    "#     print(x,y,w,h)\n",
    "mask_image=utilities.mask_to_label(mask_t)\n",
    "croped = mask_image[0:400,100:200]\n",
    "plt.imshow(croped)\n",
    "croped=utilities.label_to_mask(croped)\n",
    "print(croped)\n",
    "print(croped.shape[2])\n",
    "\n",
    "\n",
    "#\n",
    "对于个数的计算对于两个文件一起切割然后计数，就可以知道l和t的个数了。再某一个范围内...\n",
    "尝试把xml拼起来\n",
    "\n"
   ]
  },
  {
   "cell_type": "code",
   "execution_count": 66,
   "metadata": {},
   "outputs": [],
   "source": [
    "def xml_contour(xml_path):\n",
    "    with open(xml_path, 'r') as fp:\n",
    "        soup = BeautifulSoup(fp.read(), 'xml')\n",
    "    contours = []\n",
    "    for contour in soup.find_all('Contour'):\n",
    "        points = []\n",
    "        for pt in contour.find_all('Pt'):\n",
    "            points.append(tuple(float(v) for v in pt.get_text().split(',')))\n",
    "        contours.append(points)\n",
    "    return contours"
   ]
  },
  {
   "cell_type": "code",
   "execution_count": 83,
   "metadata": {},
   "outputs": [],
   "source": [
    "def change_number(contours,x,y):\n",
    "    W=1024\n",
    "    H=1024\n",
    "    contour=[]\n",
    "    for i in range(len(contours)):\n",
    "        c=[]\n",
    "        for j in range(len(contours[i])):\n",
    "            a= contours[i][j][0]+x*W\n",
    "            b= contours[i][j][1]+y*H\n",
    "            c.append((a,b))\n",
    "        contour.append(c) \n",
    "    return contour    \n",
    "            "
   ]
  },
  {
   "cell_type": "code",
   "execution_count": 84,
   "metadata": {},
   "outputs": [],
   "source": [
    "def write_xml(contours, folder_path,name):\n",
    "    with open(os.path.join(folder_path, name),'w') as f:\n",
    "        f.write('<?xml version=\"1.0\" encoding=\"UTF-8\"?>\\n');\n",
    "        f.write('<!-- MIPAV VOI file -->\\n');\n",
    "        f.write('<VOI xmlns:xsi=\"http://www.w3.org/2001/XMLSchema-instance\">\\n')\n",
    "        f.write('<Unique-ID>1234567890</Unique-ID>\\n')\n",
    "        f.write('<Curve-type>0</Curve-type>\\n')\n",
    "        f.write('<Color>255,0,255,0</Color>\\n')\n",
    "        f.write('<Thickness>1</Thickness>\\n')\n",
    "        for i in range(len(contours)):\n",
    "            f.write('<Contour>\\n')\n",
    "            f.write('<Slice-number>0</Slice-number>\\n')\n",
    "            for contour in contours[i]:\n",
    "                f.write('<Pt>')\n",
    "                f.write(str(float(contour[0])))\n",
    "                f.write(',')\n",
    "                f.write(str(float(contour[1])))\n",
    "                f.write('</Pt>\\n')\n",
    "            f.write('</Contour>\\n')\n",
    "        f.write('</VOI>')"
   ]
  },
  {
   "cell_type": "code",
   "execution_count": 73,
   "metadata": {},
   "outputs": [
    {
     "name": "stdout",
     "output_type": "stream",
     "text": [
      "['D:\\\\HCCW\\\\HCCH\\\\1-7\\\\111\\\\Cc0_CTROI_\\\\0\\\\label_t.xml', 'D:\\\\HCCW\\\\HCCH\\\\1-7\\\\111\\\\Cc0_CTROI_\\\\1\\\\label_t.xml', 'D:\\\\HCCW\\\\HCCH\\\\1-7\\\\111\\\\Cc0_CTROI_\\\\2\\\\label_t.xml', 'D:\\\\HCCW\\\\HCCH\\\\1-7\\\\111\\\\Cc0_CTROI_\\\\3\\\\label_t.xml', 'D:\\\\HCCW\\\\HCCH\\\\1-7\\\\111\\\\Cc0_CTROI_\\\\4\\\\label_t.xml', 'D:\\\\HCCW\\\\HCCH\\\\1-7\\\\111\\\\Cc0_CTROI_\\\\5\\\\label_t.xml', 'D:\\\\HCCW\\\\HCCH\\\\1-7\\\\111\\\\Cc0_CTROI_\\\\6\\\\label_t.xml', 'D:\\\\HCCW\\\\HCCH\\\\1-7\\\\111\\\\Cc0_CTROI_\\\\7\\\\label_t.xml', 'D:\\\\HCCW\\\\HCCH\\\\1-7\\\\111\\\\Cc0_CTROI_\\\\8\\\\label_t.xml']\n"
     ]
    }
   ],
   "source": [
    "print(label_t_joint)"
   ]
  },
  {
   "cell_type": "code",
   "execution_count": 90,
   "metadata": {
    "collapsed": true
   },
   "outputs": [
    {
     "name": "stdout",
     "output_type": "stream",
     "text": [
      "1185\n",
      "[[[False False False ... False False False]\n",
      "  [False False False ... False False False]\n",
      "  [False False False ... False False False]\n",
      "  ...\n",
      "  [False False False ... False False False]\n",
      "  [False False False ... False False False]\n",
      "  [False False False ... False False False]]\n",
      "\n",
      " [[False False False ... False False False]\n",
      "  [False False False ... False False False]\n",
      "  [False False False ... False False False]\n",
      "  ...\n",
      "  [False False False ... False False False]\n",
      "  [False False False ... False False False]\n",
      "  [False False False ... False False False]]\n",
      "\n",
      " [[False False False ... False False False]\n",
      "  [False False False ... False False False]\n",
      "  [False False False ... False False False]\n",
      "  ...\n",
      "  [False False False ... False False False]\n",
      "  [False False False ... False False False]\n",
      "  [False False False ... False False False]]\n",
      "\n",
      " ...\n",
      "\n",
      " [[False False False ... False False False]\n",
      "  [False False False ... False False False]\n",
      "  [False False False ... False False False]\n",
      "  ...\n",
      "  [False False False ... False False False]\n",
      "  [False False False ... False False False]\n",
      "  [False False False ... False False False]]\n",
      "\n",
      " [[False False False ... False False False]\n",
      "  [False False False ... False False False]\n",
      "  [False False False ... False False False]\n",
      "  ...\n",
      "  [False False False ... False False False]\n",
      "  [False False False ... False False False]\n",
      "  [False False False ... False False False]]\n",
      "\n",
      " [[False False False ... False False False]\n",
      "  [False False False ... False False False]\n",
      "  [False False False ... False False False]\n",
      "  ...\n",
      "  [False False False ... False False False]\n",
      "  [False False False ... False False False]\n",
      "  [False False False ... False False False]]]\n",
      "592\n"
     ]
    },
    {
     "data": {
      "image/png": "[encoded data removed]",
      "text/plain": [
       "<Figure size 432x288 with 1 Axes>"
      ]
     },
     "metadata": {
      "needs_background": "light"
     },
     "output_type": "display_data"
    }
   ],
   "source": [
    "label_t_path=\"D:\\\\HCCW\\\\HCCH\\\\1-7\\\\111\\\\Cc0_CTROI_\\\\label_t.xml\"\n",
    "region_path=\"D:\\\\HCCW\\\\HCCH\\\\1-7\\\\111\\\\Cc0_CTROI_\\\\image.tiff\"\n",
    "region = cv2.imread(region_path)\n",
    "regions = Image.open(region_path)\n",
    "n_y, n_x = region.shape[:2]\n",
    "mask_t = read_xml_contour(label_t_path, n_y, n_x)\n",
    "print(mask_t.shape[2])\n",
    "for i in range(mask_t.shape[2]):\n",
    "    _, contour, _ = cv2.findContours(mask_t[...,i].astype(np.uint8), cv2.RETR_EXTERNAL, cv2.CHAIN_APPROX_NONE)\n",
    "#     print(contour)\n",
    "    x,y,w,h = coordinate_regions(contour)\n",
    "    break\n",
    "    print(x,y,w,h)\n",
    "mask_image=utilities.mask_to_label(mask_t)\n",
    "croped = mask_image[0:400,100:200]\n",
    "plt.imshow(croped)\n",
    "croped=utilities.label_to_mask(croped)\n",
    "# print(croped)\n",
    "print(croped.shape[2])\n",
    "\n",
    "\n",
    "# #\n",
    "# 对于个数的计算对于两个文件一起切割然后计数，就可以知道l和t的个数了。再某一个范围内...\n",
    "# 尝试把xml拼起来\n",
    "\n"
   ]
  },
  {
   "cell_type": "code",
   "execution_count": 92,
   "metadata": {},
   "outputs": [
    {
     "name": "stdout",
     "output_type": "stream",
     "text": [
      "D:\\HCCW\\HCC\\1-7\\0c75eb22-f8d8-4f34-8488-95e412ccbf89\\Cc0_CTROI_\n",
      "D:\\HCCW\\HCC\\1-7\\0c75eb22-f8d8-4f34-8488-95e412ccbf89\\Cc1_CTROI_\n",
      "D:\\HCCW\\HCC\\1-7\\0c75eb22-f8d8-4f34-8488-95e412ccbf89\\Cc2_CTROI_\n",
      "D:\\HCCW\\HCC\\1-7\\0c75eb22-f8d8-4f34-8488-95e412ccbf89\\Ii0_IMROI_\n",
      "D:\\HCCW\\HCC\\1-7\\116056e0-7080-4281-820a-681f82f87e46\\Cc0_CTROI_\n",
      "D:\\HCCW\\HCC\\1-7\\116056e0-7080-4281-820a-681f82f87e46\\Cc1_CTROI_\n",
      "D:\\HCCW\\HCC\\1-7\\116056e0-7080-4281-820a-681f82f87e46\\Cc2_CTROI_\n",
      "D:\\HCCW\\HCC\\1-7\\116056e0-7080-4281-820a-681f82f87e46\\Ii0_IMROI_\n",
      "D:\\HCCW\\HCC\\1-7\\116056e0-7080-4281-820a-681f82f87e46\\Ii1_IMROI_\n",
      "D:\\HCCW\\HCC\\1-7\\1563880c-95c1-47cb-98dd-c3566adafbe6\\Cc0_CTROI_\n",
      "D:\\HCCW\\HCC\\1-7\\1563880c-95c1-47cb-98dd-c3566adafbe6\\Cc1_CTROI_\n",
      "D:\\HCCW\\HCC\\1-7\\1563880c-95c1-47cb-98dd-c3566adafbe6\\Cc2_CTROI_\n",
      "D:\\HCCW\\HCC\\1-7\\1563880c-95c1-47cb-98dd-c3566adafbe6\\Cc3_CTROI_\n",
      "D:\\HCCW\\HCC\\1-7\\1563880c-95c1-47cb-98dd-c3566adafbe6\\Cc4_CTROI_\n",
      "D:\\HCCW\\HCC\\1-7\\1563880c-95c1-47cb-98dd-c3566adafbe6\\Cc5_CTROI_\n",
      "D:\\HCCW\\HCC\\1-7\\1563880c-95c1-47cb-98dd-c3566adafbe6\\Ii0_IMROI_\n",
      "D:\\HCCW\\HCC\\1-7\\1da123aa-3381-4f48-a1d5-989bd6ea8d4e\\Cc0_CTROI_\n",
      "D:\\HCCW\\HCC\\1-7\\1da123aa-3381-4f48-a1d5-989bd6ea8d4e\\Cc1_CTROI_\n",
      "D:\\HCCW\\HCC\\1-7\\1da123aa-3381-4f48-a1d5-989bd6ea8d4e\\Cc2_CTROI_\n",
      "D:\\HCCW\\HCC\\1-7\\1da123aa-3381-4f48-a1d5-989bd6ea8d4e\\Cc3_CTROI_\n",
      "D:\\HCCW\\HCC\\1-7\\1da123aa-3381-4f48-a1d5-989bd6ea8d4e\\Ii0_IMROI_\n",
      "D:\\HCCW\\HCC\\1-7\\1da123aa-3381-4f48-a1d5-989bd6ea8d4e\\Ii1_IMROI_\n",
      "D:\\HCCW\\HCC\\1-7\\213cda74-5f5d-4325-be39-2d726bb6f4ec\\Cc0_CTROI_\n",
      "D:\\HCCW\\HCC\\1-7\\213cda74-5f5d-4325-be39-2d726bb6f4ec\\Cc1_CTROI_\n",
      "D:\\HCCW\\HCC\\1-7\\213cda74-5f5d-4325-be39-2d726bb6f4ec\\Cc2_CTROI_\n",
      "D:\\HCCW\\HCC\\1-7\\213cda74-5f5d-4325-be39-2d726bb6f4ec\\Cc3_CTROI_\n",
      "D:\\HCCW\\HCC\\1-7\\213cda74-5f5d-4325-be39-2d726bb6f4ec\\Cc4_CTROI_\n",
      "D:\\HCCW\\HCC\\1-7\\213cda74-5f5d-4325-be39-2d726bb6f4ec\\Ii0_IMROI_\n",
      "D:\\HCCW\\HCC\\1-7\\213cda74-5f5d-4325-be39-2d726bb6f4ec\\Ii1_IMROI_\n",
      "D:\\HCCW\\HCC\\1-7\\213cda74-5f5d-4325-be39-2d726bb6f4ec\\Ii2_IMROI_\n",
      "D:\\HCCW\\HCC\\1-7\\5111a997-afae-465c-a38d-e18c59dd03b8\\Cc0_CTROI_\n",
      "D:\\HCCW\\HCC\\1-7\\5111a997-afae-465c-a38d-e18c59dd03b8\\Cc1_CTROI_\n",
      "D:\\HCCW\\HCC\\1-7\\5111a997-afae-465c-a38d-e18c59dd03b8\\Ii0_IMROI_\n",
      "D:\\HCCW\\HCC\\1-7\\5111a997-afae-465c-a38d-e18c59dd03b8\\Ii1_IMROI_\n",
      "D:\\HCCW\\HCC\\1-7\\52052680-55ec-4e02-9e8c-21ef6812baae\\Cc0_CTROI_\n",
      "D:\\HCCW\\HCC\\1-7\\52052680-55ec-4e02-9e8c-21ef6812baae\\Cc1_CTROI_\n",
      "D:\\HCCW\\HCC\\1-7\\52052680-55ec-4e02-9e8c-21ef6812baae\\Cc2_CTROI_\n",
      "D:\\HCCW\\HCC\\1-7\\52052680-55ec-4e02-9e8c-21ef6812baae\\Ii1_IMROI_\n",
      "D:\\HCCW\\HCC\\1-7\\5433ac16-36f9-46c5-a0bf-5ab37bd74a23\\Cc0_CTROI_\n",
      "D:\\HCCW\\HCC\\1-7\\5433ac16-36f9-46c5-a0bf-5ab37bd74a23\\Cc1_CTROI_\n",
      "D:\\HCCW\\HCC\\1-7\\5433ac16-36f9-46c5-a0bf-5ab37bd74a23\\Cc2_CTROI_\n",
      "D:\\HCCW\\HCC\\1-7\\5433ac16-36f9-46c5-a0bf-5ab37bd74a23\\Ii0_IMROI_\n",
      "D:\\HCCW\\HCC\\1-7\\5433ac16-36f9-46c5-a0bf-5ab37bd74a23\\Ii1_IMROI_\n",
      "D:\\HCCW\\HCC\\1-7\\5433ac16-36f9-46c5-a0bf-5ab37bd74a23\\Ii2_IMROI_\n",
      "D:\\HCCW\\HCC\\1-7\\66af8c41-00c8-4dd7-8c7e-fe5240a4d6e6\\Cc0_CTROI_\n",
      "D:\\HCCW\\HCC\\1-7\\66af8c41-00c8-4dd7-8c7e-fe5240a4d6e6\\Cc1_CTROI_\n",
      "D:\\HCCW\\HCC\\1-7\\66af8c41-00c8-4dd7-8c7e-fe5240a4d6e6\\Cc2_CTROI_\n",
      "D:\\HCCW\\HCC\\1-7\\66af8c41-00c8-4dd7-8c7e-fe5240a4d6e6\\Cc3_CTROI_\n",
      "D:\\HCCW\\HCC\\1-7\\66af8c41-00c8-4dd7-8c7e-fe5240a4d6e6\\Ii0_IMROI_\n",
      "D:\\HCCW\\HCC\\1-7\\66af8c41-00c8-4dd7-8c7e-fe5240a4d6e6\\Ii1_IMROI_\n",
      "D:\\HCCW\\HCC\\1-7\\66af8c41-00c8-4dd7-8c7e-fe5240a4d6e6\\Ii2_IMROI_\n",
      "D:\\HCCW\\HCC\\1-7\\6965cc90-e649-4c7f-9f6b-45e51f7b19b0\\Cc0_CTROI_\n",
      "D:\\HCCW\\HCC\\1-7\\6965cc90-e649-4c7f-9f6b-45e51f7b19b0\\Cc1_CTROI_\n",
      "D:\\HCCW\\HCC\\1-7\\6965cc90-e649-4c7f-9f6b-45e51f7b19b0\\Cc2_CTROI_\n",
      "D:\\HCCW\\HCC\\1-7\\6965cc90-e649-4c7f-9f6b-45e51f7b19b0\\Cc3_CTROI_\n",
      "D:\\HCCW\\HCC\\1-7\\6965cc90-e649-4c7f-9f6b-45e51f7b19b0\\Ii0_IMROI_\n",
      "D:\\HCCW\\HCC\\1-7\\6965cc90-e649-4c7f-9f6b-45e51f7b19b0\\Ii1_IMROI_\n",
      "D:\\HCCW\\HCC\\1-7\\6965cc90-e649-4c7f-9f6b-45e51f7b19b0\\Ii2_IMROI_\n",
      "D:\\HCCW\\HCC\\1-7\\6965cc90-e649-4c7f-9f6b-45e51f7b19b0\\Ii3_IMROI_\n",
      "D:\\HCCW\\HCC\\1-7\\9522e3b2-215d-4391-a1ff-560852e1920b\\Cc0_CTROI_\n",
      "D:\\HCCW\\HCC\\1-7\\9522e3b2-215d-4391-a1ff-560852e1920b\\Cc1_CTROI_\n",
      "D:\\HCCW\\HCC\\1-7\\9522e3b2-215d-4391-a1ff-560852e1920b\\Cc2_CTROI_\n",
      "D:\\HCCW\\HCC\\1-7\\9522e3b2-215d-4391-a1ff-560852e1920b\\Ii0_IMROI_\n",
      "D:\\HCCW\\HCC\\1-7\\9522e3b2-215d-4391-a1ff-560852e1920b\\Ii1_IMROI_\n",
      "D:\\HCCW\\HCC\\1-7\\953354bf-a0a1-4cda-8a5f-8345c9242b35\\Cc0_CTROI_\n",
      "D:\\HCCW\\HCC\\1-7\\953354bf-a0a1-4cda-8a5f-8345c9242b35\\Cc1_CTROI_\n",
      "D:\\HCCW\\HCC\\1-7\\953354bf-a0a1-4cda-8a5f-8345c9242b35\\Cc2_CTROI_\n",
      "D:\\HCCW\\HCC\\1-7\\953354bf-a0a1-4cda-8a5f-8345c9242b35\\Cc3_CTROI_\n",
      "D:\\HCCW\\HCC\\1-7\\953354bf-a0a1-4cda-8a5f-8345c9242b35\\Ii1_IMROI_\n",
      "D:\\HCCW\\HCC\\1-7\\953354bf-a0a1-4cda-8a5f-8345c9242b35\\Ii2_IMROI_\n",
      "D:\\HCCW\\HCC\\1-7\\98816a9a-ad3e-4459-bde0-f77827e6d994\\Cc0_CTROI_\n",
      "D:\\HCCW\\HCC\\1-7\\98816a9a-ad3e-4459-bde0-f77827e6d994\\Cc1_CTROI_\n",
      "D:\\HCCW\\HCC\\1-7\\98816a9a-ad3e-4459-bde0-f77827e6d994\\Cc2_CTROI_\n",
      "D:\\HCCW\\HCC\\1-7\\98816a9a-ad3e-4459-bde0-f77827e6d994\\Cc3_CTROI_\n",
      "D:\\HCCW\\HCC\\1-7\\99c69e41-0ebb-4289-bc47-937d7a3b4ef9\\Cc0_CTROI_\n",
      "D:\\HCCW\\HCC\\1-7\\99c69e41-0ebb-4289-bc47-937d7a3b4ef9\\Cc1_CTROI_\n",
      "D:\\HCCW\\HCC\\1-7\\99c69e41-0ebb-4289-bc47-937d7a3b4ef9\\Cc2_CTROI_\n",
      "D:\\HCCW\\HCC\\1-7\\99c69e41-0ebb-4289-bc47-937d7a3b4ef9\\Cc3_CTROI_\n",
      "D:\\HCCW\\HCC\\1-7\\99c69e41-0ebb-4289-bc47-937d7a3b4ef9\\Ii0_IMROI_\n",
      "D:\\HCCW\\HCC\\1-7\\99c69e41-0ebb-4289-bc47-937d7a3b4ef9\\Ii1_IMROI_\n",
      "D:\\HCCW\\HCC\\1-7\\a585eed5-2b0e-4cd3-9e3b-d56d28e1de9f\\Cc0_CTROI_\n",
      "D:\\HCCW\\HCC\\1-7\\a585eed5-2b0e-4cd3-9e3b-d56d28e1de9f\\Cc1_CTROI_\n",
      "D:\\HCCW\\HCC\\1-7\\a585eed5-2b0e-4cd3-9e3b-d56d28e1de9f\\Cc2_CTROI_\n",
      "D:\\HCCW\\HCC\\1-7\\a585eed5-2b0e-4cd3-9e3b-d56d28e1de9f\\Cc3_CTROI_\n",
      "D:\\HCCW\\HCC\\1-7\\a585eed5-2b0e-4cd3-9e3b-d56d28e1de9f\\Cc4_CTROI_\n",
      "D:\\HCCW\\HCC\\1-7\\a585eed5-2b0e-4cd3-9e3b-d56d28e1de9f\\Ii2_IMROI_\n",
      "D:\\HCCW\\HCC\\1-7\\aaa8a746-c25c-4775-8724-2b54a261ccfc\\Cc0_CTROI_\n",
      "D:\\HCCW\\HCC\\1-7\\aaa8a746-c25c-4775-8724-2b54a261ccfc\\Cc1_CTROI_\n",
      "D:\\HCCW\\HCC\\1-7\\aaa8a746-c25c-4775-8724-2b54a261ccfc\\Cc2_CTROI_\n",
      "D:\\HCCW\\HCC\\1-7\\aaa8a746-c25c-4775-8724-2b54a261ccfc\\Cc3_CTROI_\n",
      "D:\\HCCW\\HCC\\1-7\\aaa8a746-c25c-4775-8724-2b54a261ccfc\\Ii0_IMROI_\n",
      "D:\\HCCW\\HCC\\1-7\\aaafd3e1-84f1-4c9c-82fc-fbae3abfbc6c\\Cc0_CTROI_\n",
      "D:\\HCCW\\HCC\\1-7\\aaafd3e1-84f1-4c9c-82fc-fbae3abfbc6c\\Cc1_CTROI_\n",
      "D:\\HCCW\\HCC\\1-7\\aaafd3e1-84f1-4c9c-82fc-fbae3abfbc6c\\Cc2_CTROI_\n",
      "D:\\HCCW\\HCC\\1-7\\aaafd3e1-84f1-4c9c-82fc-fbae3abfbc6c\\Ii0_IMROI_\n",
      "D:\\HCCW\\HCC\\1-7\\aaafd3e1-84f1-4c9c-82fc-fbae3abfbc6c\\Ii1_IMROI_\n",
      "D:\\HCCW\\HCC\\1-7\\aaafd3e1-84f1-4c9c-82fc-fbae3abfbc6c\\Ii2_IMROI_\n",
      "D:\\HCCW\\HCC\\1-7\\ae13a461-e15d-4cf4-99a8-b5a146ca8a67\\Cc0_CTROI_\n",
      "D:\\HCCW\\HCC\\1-7\\ae13a461-e15d-4cf4-99a8-b5a146ca8a67\\Cc1_CTROI_\n",
      "D:\\HCCW\\HCC\\1-7\\ae13a461-e15d-4cf4-99a8-b5a146ca8a67\\Cc2_CTROI_\n",
      "D:\\HCCW\\HCC\\1-7\\ae13a461-e15d-4cf4-99a8-b5a146ca8a67\\Cc3_CTROI_\n",
      "D:\\HCCW\\HCC\\1-7\\ae13a461-e15d-4cf4-99a8-b5a146ca8a67\\Cc4_CTROI_\n",
      "D:\\HCCW\\HCC\\1-7\\ae13a461-e15d-4cf4-99a8-b5a146ca8a67\\Ii0_IMROI_\n",
      "D:\\HCCW\\HCC\\1-7\\ae13a461-e15d-4cf4-99a8-b5a146ca8a67\\Ii1_IMROI_\n",
      "D:\\HCCW\\HCC\\1-7\\ae13a461-e15d-4cf4-99a8-b5a146ca8a67\\Ii2_IMROI_\n",
      "D:\\HCCW\\HCC\\1-7\\ae13a461-e15d-4cf4-99a8-b5a146ca8a67\\Ii3_IMROI_\n",
      "D:\\HCCW\\HCC\\1-7\\ba2b8b6f-7c65-4fa1-9f91-ce55037457d2\\Cc0_CTROI_\n",
      "D:\\HCCW\\HCC\\1-7\\ba2b8b6f-7c65-4fa1-9f91-ce55037457d2\\Cc1_CTROI_\n",
      "D:\\HCCW\\HCC\\1-7\\ba2b8b6f-7c65-4fa1-9f91-ce55037457d2\\Ii0_IMROI_\n",
      "D:\\HCCW\\HCC\\1-7\\ba96026c-5279-4aaa-aa7c-814f7683a62d\\Cc0_CTROI_\n",
      "D:\\HCCW\\HCC\\1-7\\ba96026c-5279-4aaa-aa7c-814f7683a62d\\Cc1_CTROI_\n",
      "D:\\HCCW\\HCC\\1-7\\ba96026c-5279-4aaa-aa7c-814f7683a62d\\Cc2_CTROI_\n",
      "D:\\HCCW\\HCC\\1-7\\ba96026c-5279-4aaa-aa7c-814f7683a62d\\Ii0_IMROI_\n",
      "D:\\HCCW\\HCC\\1-7\\ba96026c-5279-4aaa-aa7c-814f7683a62d\\Ii1_IMROI_\n",
      "D:\\HCCW\\HCC\\1-7\\be340449-5ed3-4ff5-a049-e0dcfea63832\\Cc0_CTROI_\n",
      "D:\\HCCW\\HCC\\1-7\\be340449-5ed3-4ff5-a049-e0dcfea63832\\Cc1_CTROI_\n",
      "D:\\HCCW\\HCC\\1-7\\be340449-5ed3-4ff5-a049-e0dcfea63832\\Ii1_IMROI_\n",
      "D:\\HCCW\\HCC\\1-7\\ea42ab55-bed2-48bd-a036-8d721ae8ec8f\\Cc0_CTROI_\n",
      "D:\\HCCW\\HCC\\1-7\\ea42ab55-bed2-48bd-a036-8d721ae8ec8f\\Cc1_CTROI_\n",
      "D:\\HCCW\\HCC\\1-7\\ea42ab55-bed2-48bd-a036-8d721ae8ec8f\\Cc2_CTROI_\n",
      "D:\\HCCW\\HCC\\1-7\\ea42ab55-bed2-48bd-a036-8d721ae8ec8f\\Ii0_IMROI_\n",
      "D:\\HCCW\\HCC\\1-7\\ea42ab55-bed2-48bd-a036-8d721ae8ec8f\\Ii1_IMROI_\n",
      "D:\\HCCW\\HCC\\1-7\\ea42ab55-bed2-48bd-a036-8d721ae8ec8f\\Ii2_IMROI_\n",
      "D:\\HCCW\\HCC\\1-7\\fe78e490-ce1c-4f42-9178-629450ae4ad4\\Cc0_CTROI_\n",
      "D:\\HCCW\\HCC\\1-7\\fe78e490-ce1c-4f42-9178-629450ae4ad4\\Cc1_CTROI_\n",
      "D:\\HCCW\\HCC\\1-7\\fe78e490-ce1c-4f42-9178-629450ae4ad4\\Cc2_CTROI_\n",
      "D:\\HCCW\\HCC\\1-7\\fe78e490-ce1c-4f42-9178-629450ae4ad4\\Cc3_CTROI_\n",
      "D:\\HCCW\\HCC\\1-7\\fe78e490-ce1c-4f42-9178-629450ae4ad4\\Cc4_CTROI_\n",
      "D:\\HCCW\\HCC\\1-7\\fe78e490-ce1c-4f42-9178-629450ae4ad4\\Cc5_CTROI_\n",
      "D:\\HCCW\\HCC\\1-7\\fe78e490-ce1c-4f42-9178-629450ae4ad4\\Cc6_CTROI_\n",
      "D:\\HCCW\\HCC\\1-7\\fe78e490-ce1c-4f42-9178-629450ae4ad4\\Ii0_IMROI_\n",
      "D:\\HCCW\\HCC\\1-7\\fe78e490-ce1c-4f42-9178-629450ae4ad4\\Ii1_IMROI_\n",
      "D:\\HCCW\\HCC\\1-7\\fe78e490-ce1c-4f42-9178-629450ae4ad4\\Ii2_IMROI_\n",
      "D:\\HCCW\\HCC\\1-8\\0e4e0164-71c6-4dbc-a23c-120874dbb68f\\Cc0_CTROI_\n",
      "D:\\HCCW\\HCC\\1-8\\0e4e0164-71c6-4dbc-a23c-120874dbb68f\\Cc1_CTROI_\n",
      "D:\\HCCW\\HCC\\1-8\\0e4e0164-71c6-4dbc-a23c-120874dbb68f\\Ii0_IMROI_\n",
      "D:\\HCCW\\HCC\\1-8\\0e4e0164-71c6-4dbc-a23c-120874dbb68f\\Ii1_IMROI_\n",
      "D:\\HCCW\\HCC\\1-8\\10b7f34f-e262-406b-8d24-1e10eeccae6e\\Cc0_CTROI_\n",
      "D:\\HCCW\\HCC\\1-8\\10b7f34f-e262-406b-8d24-1e10eeccae6e\\Cc1_CTROI_\n",
      "D:\\HCCW\\HCC\\1-8\\10b7f34f-e262-406b-8d24-1e10eeccae6e\\Cc2_CTROI_\n",
      "D:\\HCCW\\HCC\\1-8\\10b7f34f-e262-406b-8d24-1e10eeccae6e\\Ii0_IMROI_\n",
      "D:\\HCCW\\HCC\\1-8\\10b7f34f-e262-406b-8d24-1e10eeccae6e\\Ii1_IMROI_\n",
      "D:\\HCCW\\HCC\\1-8\\17b6ff81-ab01-4967-bb4a-4aefb166b957\\Cc0_CTROI_\n",
      "D:\\HCCW\\HCC\\1-8\\17b6ff81-ab01-4967-bb4a-4aefb166b957\\Cc1_CTROI_\n",
      "D:\\HCCW\\HCC\\1-8\\17b6ff81-ab01-4967-bb4a-4aefb166b957\\Cc2_CTROI_\n",
      "D:\\HCCW\\HCC\\1-8\\17b6ff81-ab01-4967-bb4a-4aefb166b957\\Ii0_IMROI_\n",
      "D:\\HCCW\\HCC\\1-8\\17b6ff81-ab01-4967-bb4a-4aefb166b957\\Ii1_IMROI_\n",
      "D:\\HCCW\\HCC\\1-8\\17b6ff81-ab01-4967-bb4a-4aefb166b957\\Ii2_IMROI_\n",
      "D:\\HCCW\\HCC\\1-8\\1a59e58b-41be-4c78-8d1a-9d16b6e8d278\\Cc0_CTROI_\n",
      "D:\\HCCW\\HCC\\1-8\\1a59e58b-41be-4c78-8d1a-9d16b6e8d278\\Cc1_CTROI_\n",
      "D:\\HCCW\\HCC\\1-8\\1a59e58b-41be-4c78-8d1a-9d16b6e8d278\\Cc2_CTROI_\n",
      "D:\\HCCW\\HCC\\1-8\\1cb8a58e-7ee1-4e7d-a320-e074d373d543\\Cc0_CTROI_\n",
      "D:\\HCCW\\HCC\\1-8\\1cb8a58e-7ee1-4e7d-a320-e074d373d543\\Cc1_CTROI_\n",
      "D:\\HCCW\\HCC\\1-8\\1cb8a58e-7ee1-4e7d-a320-e074d373d543\\Cc2_CTROI_\n",
      "D:\\HCCW\\HCC\\1-8\\1cb8a58e-7ee1-4e7d-a320-e074d373d543\\Ii0_IMROI_\n",
      "D:\\HCCW\\HCC\\1-8\\1cb8a58e-7ee1-4e7d-a320-e074d373d543\\Ii1_IMROI_\n",
      "D:\\HCCW\\HCC\\1-8\\1cb8a58e-7ee1-4e7d-a320-e074d373d543\\Ii2_IMROI_\n",
      "D:\\HCCW\\HCC\\1-8\\2e4f6316-588b-4629-adf0-7aeac358a0e2\\Cc0_CTROI_\n",
      "D:\\HCCW\\HCC\\1-8\\2e4f6316-588b-4629-adf0-7aeac358a0e2\\Cc1_CTROI_\n",
      "D:\\HCCW\\HCC\\1-8\\2e4f6316-588b-4629-adf0-7aeac358a0e2\\Cc2_CTROI_\n",
      "D:\\HCCW\\HCC\\1-8\\2e4f6316-588b-4629-adf0-7aeac358a0e2\\Ii0_IMROI_\n",
      "D:\\HCCW\\HCC\\1-8\\2e4f6316-588b-4629-adf0-7aeac358a0e2\\Ii1_IMROI_\n",
      "D:\\HCCW\\HCC\\1-8\\5c57d910-5aa3-4b07-97f0-bc8130808485\\Cc0_CTROI_\n",
      "D:\\HCCW\\HCC\\1-8\\5c57d910-5aa3-4b07-97f0-bc8130808485\\Cc1_CTROI_\n",
      "D:\\HCCW\\HCC\\1-8\\5c57d910-5aa3-4b07-97f0-bc8130808485\\Cc2_CTROI_\n",
      "D:\\HCCW\\HCC\\1-8\\5c57d910-5aa3-4b07-97f0-bc8130808485\\Cc3_CTROI_\n",
      "D:\\HCCW\\HCC\\1-8\\5c57d910-5aa3-4b07-97f0-bc8130808485\\Cc4_CTROI_\n",
      "D:\\HCCW\\HCC\\1-8\\5c57d910-5aa3-4b07-97f0-bc8130808485\\Ii0_IMROI_\n",
      "D:\\HCCW\\HCC\\1-8\\5c57d910-5aa3-4b07-97f0-bc8130808485\\Ii1_IMROI_\n",
      "D:\\HCCW\\HCC\\1-8\\5c57d910-5aa3-4b07-97f0-bc8130808485\\Ii2_IMROI_\n",
      "D:\\HCCW\\HCC\\1-8\\61ee59ec-758f-4ffd-9a45-8ef260af211d\\Cc0_CTROI_\n",
      "D:\\HCCW\\HCC\\1-8\\61ee59ec-758f-4ffd-9a45-8ef260af211d\\Cc1_CTROI_\n",
      "D:\\HCCW\\HCC\\1-8\\61ee59ec-758f-4ffd-9a45-8ef260af211d\\Cc2_CTROI_\n",
      "D:\\HCCW\\HCC\\1-8\\61ee59ec-758f-4ffd-9a45-8ef260af211d\\Cc3_CTROI_\n",
      "D:\\HCCW\\HCC\\1-8\\61ee59ec-758f-4ffd-9a45-8ef260af211d\\Ii0_IMROI_\n",
      "D:\\HCCW\\HCC\\1-8\\61ee59ec-758f-4ffd-9a45-8ef260af211d\\Ii1_IMROI_\n",
      "D:\\HCCW\\HCC\\1-8\\61ee59ec-758f-4ffd-9a45-8ef260af211d\\Ii2_IMROI_\n",
      "D:\\HCCW\\HCC\\1-8\\669aef8e-f79d-48d7-931a-040ae15e5bbc\\Cc0_CTROI_\n",
      "D:\\HCCW\\HCC\\1-8\\669aef8e-f79d-48d7-931a-040ae15e5bbc\\Cc1_CTROI_\n",
      "D:\\HCCW\\HCC\\1-8\\669aef8e-f79d-48d7-931a-040ae15e5bbc\\Ii0_IMROI_\n",
      "D:\\HCCW\\HCC\\1-8\\669aef8e-f79d-48d7-931a-040ae15e5bbc\\Ii1_IMROI_\n",
      "D:\\HCCW\\HCC\\1-8\\6c7e7d92-f722-4b99-9626-ab765fdd42e7\\Cc0_CTROI_\n",
      "D:\\HCCW\\HCC\\1-8\\6c7e7d92-f722-4b99-9626-ab765fdd42e7\\Cc1_CTROI_\n",
      "D:\\HCCW\\HCC\\1-8\\6c7e7d92-f722-4b99-9626-ab765fdd42e7\\Ii1_IMROI_\n",
      "D:\\HCCW\\HCC\\1-8\\84aaf30c-25c4-4097-8cf4-22189d2de4da\\Cc0_CTROI_\n",
      "D:\\HCCW\\HCC\\1-8\\84aaf30c-25c4-4097-8cf4-22189d2de4da\\Cc1_CTROI_\n",
      "D:\\HCCW\\HCC\\1-8\\84aaf30c-25c4-4097-8cf4-22189d2de4da\\Cc2_CTROI_\n",
      "D:\\HCCW\\HCC\\1-8\\84aaf30c-25c4-4097-8cf4-22189d2de4da\\Cc3_CTROI_\n",
      "D:\\HCCW\\HCC\\1-8\\9153d309-ea1c-4f13-92fd-83310b499268\\Cc0_CTROI_\n",
      "D:\\HCCW\\HCC\\1-8\\9153d309-ea1c-4f13-92fd-83310b499268\\Cc1_CTROI_\n",
      "D:\\HCCW\\HCC\\1-8\\9153d309-ea1c-4f13-92fd-83310b499268\\Cc2_CTROI_\n",
      "D:\\HCCW\\HCC\\1-8\\9153d309-ea1c-4f13-92fd-83310b499268\\Ii0_IMROI_\n",
      "D:\\HCCW\\HCC\\1-8\\9153d309-ea1c-4f13-92fd-83310b499268\\Ii1_IMROI_\n",
      "D:\\HCCW\\HCC\\1-8\\93fe6ce8-8dbf-41aa-91e9-6308581e2305\\Cc0_CTROI_\n",
      "D:\\HCCW\\HCC\\1-8\\93fe6ce8-8dbf-41aa-91e9-6308581e2305\\Cc1_CTROI_\n",
      "D:\\HCCW\\HCC\\1-8\\93fe6ce8-8dbf-41aa-91e9-6308581e2305\\Cc2_CTROI_\n",
      "D:\\HCCW\\HCC\\1-8\\93fe6ce8-8dbf-41aa-91e9-6308581e2305\\Cc3_CTROI_\n",
      "D:\\HCCW\\HCC\\1-8\\93fe6ce8-8dbf-41aa-91e9-6308581e2305\\Cc4_CTROI_\n",
      "D:\\HCCW\\HCC\\1-8\\93fe6ce8-8dbf-41aa-91e9-6308581e2305\\Ii0_IMROI_\n",
      "D:\\HCCW\\HCC\\1-8\\93fe6ce8-8dbf-41aa-91e9-6308581e2305\\Ii2_IMROI_\n",
      "D:\\HCCW\\HCC\\1-8\\9c705818-f44a-4cce-bc5b-2410357652b1\\Cc0_CTROI_\n",
      "D:\\HCCW\\HCC\\1-8\\9c705818-f44a-4cce-bc5b-2410357652b1\\Cc1_CTROI_\n",
      "D:\\HCCW\\HCC\\1-8\\a30652c7-e18c-45f0-9452-cd72bd6130f7\\Cc0_CTROI_\n",
      "D:\\HCCW\\HCC\\1-8\\a30652c7-e18c-45f0-9452-cd72bd6130f7\\Cc1_CTROI_\n",
      "D:\\HCCW\\HCC\\1-8\\a30652c7-e18c-45f0-9452-cd72bd6130f7\\Cc2_CTROI_\n",
      "D:\\HCCW\\HCC\\1-8\\a30652c7-e18c-45f0-9452-cd72bd6130f7\\Ii0_IMROI_\n",
      "D:\\HCCW\\HCC\\1-8\\a30652c7-e18c-45f0-9452-cd72bd6130f7\\Ii1_IMROI_\n",
      "D:\\HCCW\\HCC\\1-8\\bb390031-4440-468a-b4ce-36a726790de7\\Cc0_CTROI_\n",
      "D:\\HCCW\\HCC\\1-8\\bb390031-4440-468a-b4ce-36a726790de7\\Cc1_CTROI_\n",
      "D:\\HCCW\\HCC\\1-8\\bb390031-4440-468a-b4ce-36a726790de7\\Cc2_CTROI_\n",
      "D:\\HCCW\\HCC\\1-8\\bb390031-4440-468a-b4ce-36a726790de7\\Cc3_CTROI_\n",
      "D:\\HCCW\\HCC\\1-8\\bb390031-4440-468a-b4ce-36a726790de7\\Cc4_CTROI_\n",
      "D:\\HCCW\\HCC\\1-8\\bb390031-4440-468a-b4ce-36a726790de7\\Ii1_IMROI_\n",
      "D:\\HCCW\\HCC\\1-8\\bb390031-4440-468a-b4ce-36a726790de7\\Ii2_IMROI_\n",
      "D:\\HCCW\\HCC\\1-8\\d305f85f-fc0b-406b-b0c1-a908f64f7211\\Cc0_CTROI_\n",
      "D:\\HCCW\\HCC\\1-8\\d305f85f-fc0b-406b-b0c1-a908f64f7211\\Cc1_CTROI_\n",
      "D:\\HCCW\\HCC\\1-8\\d305f85f-fc0b-406b-b0c1-a908f64f7211\\Ii0_IMROI_\n",
      "D:\\HCCW\\HCC\\1-8\\d305f85f-fc0b-406b-b0c1-a908f64f7211\\Ii1_IMROI_\n",
      "D:\\HCCW\\HCC\\1-8\\d8d1beca-33db-4867-ad17-5224e16fc3d0\\Cc0_CTROI_\n",
      "D:\\HCCW\\HCC\\1-8\\d8d1beca-33db-4867-ad17-5224e16fc3d0\\Cc1_CTROI_\n",
      "D:\\HCCW\\HCC\\1-8\\d8d1beca-33db-4867-ad17-5224e16fc3d0\\Cc2_CTROI_\n",
      "D:\\HCCW\\HCC\\1-8\\d8d1beca-33db-4867-ad17-5224e16fc3d0\\Cc3_CTROI_\n",
      "D:\\HCCW\\HCC\\1-8\\d8d1beca-33db-4867-ad17-5224e16fc3d0\\Ii0_IMROI_\n",
      "D:\\HCCW\\HCC\\1-8\\d8d1beca-33db-4867-ad17-5224e16fc3d0\\Ii1_IMROI_\n",
      "D:\\HCCW\\HCC\\1-8\\d8d1beca-33db-4867-ad17-5224e16fc3d0\\Ii2_IMROI_\n",
      "D:\\HCCW\\HCC\\1-8\\d8d1beca-33db-4867-ad17-5224e16fc3d0\\Ii3_IMROI_\n",
      "D:\\HCCW\\HCC\\1-8\\d8edf083-1569-448d-b056-23a71afc1d64\\Cc0_CTROI_\n",
      "D:\\HCCW\\HCC\\1-8\\d8edf083-1569-448d-b056-23a71afc1d64\\Cc1_CTROI_\n",
      "D:\\HCCW\\HCC\\1-8\\d8edf083-1569-448d-b056-23a71afc1d64\\Cc2_CTROI_\n",
      "D:\\HCCW\\HCC\\1-8\\d8edf083-1569-448d-b056-23a71afc1d64\\Ii0_IMROI_\n",
      "D:\\HCCW\\HCC\\1-8\\d8edf083-1569-448d-b056-23a71afc1d64\\Ii1_IMROI_\n",
      "D:\\HCCW\\HCC\\1-8\\dfb11558-264a-4491-b934-f1a0541cc798\\Cc0_CTROI_\n",
      "D:\\HCCW\\HCC\\1-8\\dfb11558-264a-4491-b934-f1a0541cc798\\Cc1_CTROI_\n",
      "D:\\HCCW\\HCC\\1-8\\dfb11558-264a-4491-b934-f1a0541cc798\\Cc2_CTROI_\n",
      "D:\\HCCW\\HCC\\1-8\\dfb11558-264a-4491-b934-f1a0541cc798\\Cc3_CTROI_\n",
      "D:\\HCCW\\HCC\\1-8\\dfb11558-264a-4491-b934-f1a0541cc798\\Cc4_CTROI_\n",
      "D:\\HCCW\\HCC\\1-8\\dfb11558-264a-4491-b934-f1a0541cc798\\Cc5_CTROI_\n",
      "D:\\HCCW\\HCC\\1-8\\dfb11558-264a-4491-b934-f1a0541cc798\\Ii1_IMROI_\n",
      "D:\\HCCW\\HCC\\1-8\\dfb11558-264a-4491-b934-f1a0541cc798\\Ii2_IMROI_\n",
      "D:\\HCCW\\HCC\\1-8\\fdbadb16-252b-4881-8972-389fa1b800c3\\Cc0_CTROI_\n",
      "D:\\HCCW\\HCC\\1-8\\fdbadb16-252b-4881-8972-389fa1b800c3\\Cc1_CTROI_\n",
      "D:\\HCCW\\HCC\\1-8\\fdbadb16-252b-4881-8972-389fa1b800c3\\Cc2_CTROI_\n"
     ]
    }
   ],
   "source": [
    "#main_function\n",
    "#第一步找到所有的roi文件，只找除了A的文件\n",
    "import time\n",
    "e_folders='C:\\\\Users\\\\Yi\\\\Desktop\\\\wan'\n",
    "_, folders, _ = next(os.walk(e_folders))\n",
    "for folder in folders: \n",
    "    _,i_folders,_ = next(os.walk(os.path.join(e_folders, folder)))\n",
    "    for image_folders in i_folders:\n",
    "        _, image, _ = next(os.walk(os.path.join(e_folders, folder,image_folders)))\n",
    "        haiyue=[]\n",
    "        haiyue1=[]\n",
    "        for i in range(len(image)):\n",
    "            if image[i].startswith('A'):\n",
    "                haiyue1.append(0)\n",
    "            else:   \n",
    "                haiyue.append(image[i])\n",
    "        for hai in haiyue:\n",
    "            folder_path = os.path.join(e_folders, folder,image_folders,hai)\n",
    "#             print(folder_path)\n",
    "            #对于密度特征计算的话一个文件两个值直接保存就行\n",
    "            density_tumor,density_lyphocyte = density(folder_path)\n",
    "            #对于分布特征：\n",
    "            t_n,l_n=num_matrix(folder_path)\n",
    "            u_tumor_mean,u_lyphocyte_mean,u_tumor_std,u_lyphocyte_std = unifority(t_n,l_n)\n",
    "            #对于关系特征\n",
    "            t,l=relation(folder_path,100)\n",
    "            r_tumor_mean,r_lyphocyte_mean,r_tumor_std,r_lyphocyte_std=relation_Statistics(t,l)\n",
    "            \n",
    "            \n",
    "            \n"
   ]
  },
  {
   "cell_type": "code",
   "execution_count": null,
   "metadata": {},
   "outputs": [],
   "source": []
  },
  {
   "cell_type": "code",
   "execution_count": null,
   "metadata": {},
   "outputs": [],
   "source": []
  },
  {
   "cell_type": "code",
   "execution_count": null,
   "metadata": {},
   "outputs": [],
   "source": []
  },
  {
   "cell_type": "code",
   "execution_count": null,
   "metadata": {},
   "outputs": [],
   "source": []
  },
  {
   "cell_type": "code",
   "execution_count": null,
   "metadata": {},
   "outputs": [],
   "source": []
  },
  {
   "cell_type": "code",
   "execution_count": null,
   "metadata": {},
   "outputs": [],
   "source": []
  },
  {
   "cell_type": "code",
   "execution_count": null,
   "metadata": {},
   "outputs": [],
   "source": []
  },
  {
   "cell_type": "code",
   "execution_count": null,
   "metadata": {},
   "outputs": [],
   "source": []
  },
  {
   "cell_type": "code",
   "execution_count": null,
   "metadata": {},
   "outputs": [],
   "source": []
  },
  {
   "cell_type": "code",
   "execution_count": null,
   "metadata": {},
   "outputs": [],
   "source": []
  },
  {
   "cell_type": "code",
   "execution_count": null,
   "metadata": {},
   "outputs": [],
   "source": []
  },
  {
   "cell_type": "code",
   "execution_count": null,
   "metadata": {},
   "outputs": [],
   "source": []
  },
  {
   "cell_type": "code",
   "execution_count": null,
   "metadata": {},
   "outputs": [],
   "source": []
  },
  {
   "cell_type": "code",
   "execution_count": null,
   "metadata": {},
   "outputs": [],
   "source": []
  },
  {
   "cell_type": "code",
   "execution_count": null,
   "metadata": {},
   "outputs": [],
   "source": []
  },
  {
   "cell_type": "code",
   "execution_count": null,
   "metadata": {},
   "outputs": [],
   "source": []
  },
  {
   "cell_type": "code",
   "execution_count": null,
   "metadata": {},
   "outputs": [],
   "source": []
  },
  {
   "cell_type": "code",
   "execution_count": null,
   "metadata": {},
   "outputs": [],
   "source": []
  },
  {
   "cell_type": "code",
   "execution_count": null,
   "metadata": {},
   "outputs": [],
   "source": []
  },
  {
   "cell_type": "code",
   "execution_count": null,
   "metadata": {},
   "outputs": [],
   "source": []
  },
  {
   "cell_type": "code",
   "execution_count": null,
   "metadata": {},
   "outputs": [],
   "source": []
  },
  {
   "cell_type": "code",
   "execution_count": null,
   "metadata": {},
   "outputs": [],
   "source": []
  },
  {
   "cell_type": "code",
   "execution_count": null,
   "metadata": {},
   "outputs": [],
   "source": []
  },
  {
   "cell_type": "code",
   "execution_count": null,
   "metadata": {},
   "outputs": [],
   "source": []
  },
  {
   "cell_type": "code",
   "execution_count": null,
   "metadata": {},
   "outputs": [],
   "source": []
  },
  {
   "cell_type": "code",
   "execution_count": null,
   "metadata": {},
   "outputs": [],
   "source": []
  },
  {
   "cell_type": "code",
   "execution_count": null,
   "metadata": {},
   "outputs": [],
   "source": []
  },
  {
   "cell_type": "code",
   "execution_count": null,
   "metadata": {},
   "outputs": [],
   "source": [
    "def load_mask(folder_path):\n",
    "    height=1024\n",
    "    width=1024\n",
    "    if os.path.exists(os.path.join(folder_path,'label_t.xml')):\n",
    "        label_t_path = os.path.join(folder_path,'label_t.xml')\n",
    "        mask_t = read_xml_contour(label_t_path, height, width)\n",
    "        class_ids_t = np.ones(mask_t.shape[2], dtype=int)\n",
    "    else:\n",
    "        class_ids_t=[]\n",
    "    if os.path.exists(os.path.join(folder_path,'label_l.xml')):\n",
    "        label_l_path = os.path.join(folder_path,'label_l.xml')\n",
    "        mask_l = read_xml_contour(label_l_path, height, width)\n",
    "        q=mask_l.shape[2]\n",
    "        class_ids_l=np.zeros(mask_l.shape[2],dtype=int)\n",
    "        for i in range(q):\n",
    "            class_ids_l[i]=2 \n",
    "    else:\n",
    "        class_ids_l=[]   \n",
    "    return  mask_t,class_ids_t,mask_l,class_ids_l       "
   ]
  },
  {
   "cell_type": "code",
   "execution_count": 64,
   "metadata": {},
   "outputs": [
    {
     "ename": "ValueError",
     "evalue": "could not broadcast input array from shape (1024,1024,3) into shape (1024,1024,255)",
     "output_type": "error",
     "traceback": [
      "\u001b[1;31m---------------------------------------------------------------------------\u001b[0m",
      "\u001b[1;31mValueError\u001b[0m                                Traceback (most recent call last)",
      "\u001b[1;32m<ipython-input-64-87fdbe3729cc>\u001b[0m in \u001b[0;36m<module>\u001b[1;34m\u001b[0m\n\u001b[0;32m      2\u001b[0m \u001b[0mimage\u001b[0m\u001b[1;33m=\u001b[0m\u001b[0mcv2\u001b[0m\u001b[1;33m.\u001b[0m\u001b[0mimread\u001b[0m\u001b[1;33m(\u001b[0m\u001b[0mpath\u001b[0m\u001b[1;33m)\u001b[0m\u001b[1;33m\u001b[0m\u001b[1;33m\u001b[0m\u001b[0m\n\u001b[0;32m      3\u001b[0m \u001b[0mplt\u001b[0m\u001b[1;33m.\u001b[0m\u001b[0mimshow\u001b[0m\u001b[1;33m(\u001b[0m\u001b[0mimage\u001b[0m\u001b[1;33m)\u001b[0m\u001b[1;33m\u001b[0m\u001b[1;33m\u001b[0m\u001b[0m\n\u001b[1;32m----> 4\u001b[1;33m \u001b[0mcroped\u001b[0m\u001b[1;33m=\u001b[0m\u001b[0mutilities\u001b[0m\u001b[1;33m.\u001b[0m\u001b[0mlabel_to_mask\u001b[0m\u001b[1;33m(\u001b[0m\u001b[0mimage\u001b[0m\u001b[1;33m)\u001b[0m\u001b[1;33m\u001b[0m\u001b[1;33m\u001b[0m\u001b[0m\n\u001b[0m\u001b[0;32m      5\u001b[0m \u001b[0mprint\u001b[0m\u001b[1;33m(\u001b[0m\u001b[0mcroped\u001b[0m\u001b[1;33m)\u001b[0m\u001b[1;33m\u001b[0m\u001b[1;33m\u001b[0m\u001b[0m\n\u001b[0;32m      6\u001b[0m \u001b[0mprint\u001b[0m\u001b[1;33m(\u001b[0m\u001b[0mcroped\u001b[0m\u001b[1;33m.\u001b[0m\u001b[0mshape\u001b[0m\u001b[1;33m[\u001b[0m\u001b[1;36m2\u001b[0m\u001b[1;33m]\u001b[0m\u001b[1;33m)\u001b[0m\u001b[1;33m\u001b[0m\u001b[1;33m\u001b[0m\u001b[0m\n",
      "\u001b[1;32m~\\Documents\\python_projects\\nucleusSeg\\utilities.py\u001b[0m in \u001b[0;36mlabel_to_mask\u001b[1;34m(label)\u001b[0m\n\u001b[0;32m    223\u001b[0m         \u001b[0mmask\u001b[0m \u001b[1;33m=\u001b[0m \u001b[0mnp\u001b[0m\u001b[1;33m.\u001b[0m\u001b[0mzeros\u001b[0m\u001b[1;33m(\u001b[0m\u001b[0mlabel\u001b[0m\u001b[1;33m.\u001b[0m\u001b[0mshape\u001b[0m\u001b[1;33m+\u001b[0m\u001b[1;33m(\u001b[0m\u001b[0mn_instances\u001b[0m\u001b[1;33m,\u001b[0m\u001b[1;33m)\u001b[0m\u001b[1;33m,\u001b[0m \u001b[0mdtype\u001b[0m\u001b[1;33m=\u001b[0m\u001b[0mbool\u001b[0m\u001b[1;33m)\u001b[0m\u001b[1;33m\u001b[0m\u001b[1;33m\u001b[0m\u001b[0m\n\u001b[0;32m    224\u001b[0m         \u001b[1;32mfor\u001b[0m \u001b[0mk\u001b[0m \u001b[1;32min\u001b[0m \u001b[0mrange\u001b[0m\u001b[1;33m(\u001b[0m\u001b[0mn_instances\u001b[0m\u001b[1;33m)\u001b[0m\u001b[1;33m:\u001b[0m\u001b[1;33m\u001b[0m\u001b[1;33m\u001b[0m\u001b[0m\n\u001b[1;32m--> 225\u001b[1;33m                 \u001b[0mmask\u001b[0m\u001b[1;33m[\u001b[0m\u001b[1;33m:\u001b[0m\u001b[1;33m,\u001b[0m\u001b[1;33m:\u001b[0m\u001b[1;33m,\u001b[0m\u001b[0mk\u001b[0m\u001b[1;33m]\u001b[0m \u001b[1;33m=\u001b[0m \u001b[0mlabel\u001b[0m\u001b[1;33m==\u001b[0m\u001b[1;33m(\u001b[0m\u001b[0mk\u001b[0m\u001b[1;33m+\u001b[0m\u001b[1;36m1\u001b[0m\u001b[1;33m)\u001b[0m\u001b[1;33m\u001b[0m\u001b[1;33m\u001b[0m\u001b[0m\n\u001b[0m\u001b[0;32m    226\u001b[0m         \u001b[1;32mreturn\u001b[0m \u001b[0mmask\u001b[0m\u001b[1;33m\u001b[0m\u001b[1;33m\u001b[0m\u001b[0m\n\u001b[0;32m    227\u001b[0m \u001b[1;33m\u001b[0m\u001b[0m\n",
      "\u001b[1;31mValueError\u001b[0m: could not broadcast input array from shape (1024,1024,3) into shape (1024,1024,255)"
     ]
    },
    {
     "data": {
      "image/png": "[encoded data removed]",
      "text/plain": [
       "<Figure size 432x288 with 1 Axes>"
      ]
     },
     "metadata": {
      "needs_background": "light"
     },
     "output_type": "display_data"
    }
   ],
   "source": [
    "path=\"D:\\\\HCCW\\\\HCC\\\\1-7\\\\0c75eb22-f8d8-4f34-8488-95e412ccbf89\\\\Aa0_ATROI_\\\\61\\\\label_o.png\"\n",
    "image=cv2.imread(path)\n",
    "plt.imshow(image)\n",
    "croped=utilities.label_to_mask(image)\n",
    "print(croped)\n",
    "print(croped.shape[2])"
   ]
  },
  {
   "cell_type": "code",
   "execution_count": null,
   "metadata": {},
   "outputs": [],
   "source": []
  },
  {
   "cell_type": "code",
   "execution_count": null,
   "metadata": {},
   "outputs": [],
   "source": []
  },
  {
   "cell_type": "code",
   "execution_count": null,
   "metadata": {},
   "outputs": [],
   "source": []
  },
  {
   "cell_type": "code",
   "execution_count": null,
   "metadata": {},
   "outputs": [],
   "source": []
  },
  {
   "cell_type": "code",
   "execution_count": null,
   "metadata": {},
   "outputs": [],
   "source": []
  },
  {
   "cell_type": "code",
   "execution_count": null,
   "metadata": {},
   "outputs": [],
   "source": []
  },
  {
   "cell_type": "code",
   "execution_count": null,
   "metadata": {},
   "outputs": [],
   "source": []
  },
  {
   "cell_type": "code",
   "execution_count": null,
   "metadata": {},
   "outputs": [],
   "source": []
  },
  {
   "cell_type": "code",
   "execution_count": null,
   "metadata": {},
   "outputs": [],
   "source": []
  },
  {
   "cell_type": "code",
   "execution_count": null,
   "metadata": {},
   "outputs": [],
   "source": []
  },
  {
   "cell_type": "code",
   "execution_count": null,
   "metadata": {},
   "outputs": [],
   "source": []
  },
  {
   "cell_type": "code",
   "execution_count": null,
   "metadata": {},
   "outputs": [],
   "source": []
  },
  {
   "cell_type": "code",
   "execution_count": null,
   "metadata": {},
   "outputs": [],
   "source": []
  },
  {
   "cell_type": "code",
   "execution_count": null,
   "metadata": {},
   "outputs": [],
   "source": []
  },
  {
   "cell_type": "code",
   "execution_count": null,
   "metadata": {},
   "outputs": [],
   "source": []
  },
  {
   "cell_type": "code",
   "execution_count": null,
   "metadata": {},
   "outputs": [],
   "source": []
  },
  {
   "cell_type": "code",
   "execution_count": null,
   "metadata": {},
   "outputs": [],
   "source": []
  },
  {
   "cell_type": "code",
   "execution_count": null,
   "metadata": {},
   "outputs": [],
   "source": []
  },
  {
   "cell_type": "code",
   "execution_count": null,
   "metadata": {},
   "outputs": [],
   "source": []
  },
  {
   "cell_type": "code",
   "execution_count": null,
   "metadata": {},
   "outputs": [],
   "source": []
  },
  {
   "cell_type": "code",
   "execution_count": null,
   "metadata": {},
   "outputs": [],
   "source": []
  },
  {
   "cell_type": "code",
   "execution_count": null,
   "metadata": {},
   "outputs": [],
   "source": []
  },
  {
   "cell_type": "code",
   "execution_count": 31,
   "metadata": {},
   "outputs": [
    {
     "name": "stdout",
     "output_type": "stream",
     "text": [
      "['0', '1', '2', '3', '4', '5', '6', '7', '8']\n"
     ]
    }
   ],
   "source": [
    "folder_path=\"D:\\\\HCCW\\\\HCCH\\\\1-7\\\\111\\\\Cc0_CTROI_\"\n",
    "t_n,l_n=num_matrix(folder_path)"
   ]
  },
  {
   "cell_type": "code",
   "execution_count": 34,
   "metadata": {},
   "outputs": [
    {
     "name": "stdout",
     "output_type": "stream",
     "text": [
      "[[126, 130, 55], [118, 381, 185], [5, 58, 127]] [[5, 6, 3], [8, 1, 6], [6, 11, 10]]\n",
      "[[126 130  55]\n",
      " [118 381 185]\n",
      " [  5  58 127]]\n",
      "[[ 5  6  3]\n",
      " [ 8  1  6]\n",
      " [ 6 11 10]]\n"
     ]
    }
   ],
   "source": [
    "print(t_n,l_n)\n",
    "b=np.array(t_n)\n",
    "a=np.array(l_n)\n",
    "print(b)\n",
    "print(a)"
   ]
  },
  {
   "cell_type": "code",
   "execution_count": 36,
   "metadata": {},
   "outputs": [
    {
     "name": "stdout",
     "output_type": "stream",
     "text": [
      "6.222222222222222\n"
     ]
    }
   ],
   "source": [
    "w=np.mean(a)\n",
    "print(w)"
   ]
  },
  {
   "cell_type": "code",
   "execution_count": null,
   "metadata": {},
   "outputs": [],
   "source": []
  },
  {
   "cell_type": "code",
   "execution_count": null,
   "metadata": {},
   "outputs": [],
   "source": []
  },
  {
   "cell_type": "code",
   "execution_count": null,
   "metadata": {},
   "outputs": [],
   "source": []
  },
  {
   "cell_type": "code",
   "execution_count": null,
   "metadata": {},
   "outputs": [],
   "source": [
    "            region_path=os.path.join(e_folders,folder,image_folders,str(image_f[i])[:-1]+'.tiff')\n",
    "            print(region_path)\n",
    "            region = cv2.imread(region_path)\n",
    "            regions = Image.open(region_path)\n",
    "            n_y, n_x = region.shape[:2]\n",
    "            H=1024\n",
    "            W=1024\n",
    "            num_steps_y = math.ceil(n_y/H)\n",
    "            num_steps_x = math.ceil(n_x/W)\n",
    "            #创建空白图像，大小为n_y,n_x\n",
    "            result_image = Image.new(regions.mode,(num_steps_x*W,num_steps_y*H))\n",
    "            result_label = Image.new(regions.mode,(num_steps_x*W,num_steps_y*H))\n",
    "            for y in range(num_steps_y):\n",
    "                for x in range(num_steps_x):\n",
    "                    image = Image.open(img_joint[num_steps_x*y+x])\n",
    "                    result_image.paste(image,(x *W, y * H))\n",
    "                    label = Image.open(label_joint[num_steps_x*y+x])\n",
    "                    result_label.paste(label,(x *W, y * H))"
   ]
  },
  {
   "cell_type": "code",
   "execution_count": null,
   "metadata": {},
   "outputs": [],
   "source": []
  },
  {
   "cell_type": "code",
   "execution_count": null,
   "metadata": {},
   "outputs": [],
   "source": []
  },
  {
   "cell_type": "code",
   "execution_count": null,
   "metadata": {},
   "outputs": [],
   "source": []
  },
  {
   "cell_type": "code",
   "execution_count": null,
   "metadata": {},
   "outputs": [],
   "source": []
  },
  {
   "cell_type": "code",
   "execution_count": null,
   "metadata": {},
   "outputs": [],
   "source": []
  },
  {
   "cell_type": "code",
   "execution_count": null,
   "metadata": {},
   "outputs": [],
   "source": []
  },
  {
   "cell_type": "code",
   "execution_count": null,
   "metadata": {},
   "outputs": [],
   "source": []
  },
  {
   "cell_type": "code",
   "execution_count": null,
   "metadata": {},
   "outputs": [],
   "source": []
  },
  {
   "cell_type": "code",
   "execution_count": null,
   "metadata": {},
   "outputs": [],
   "source": []
  },
  {
   "cell_type": "code",
   "execution_count": null,
   "metadata": {},
   "outputs": [],
   "source": []
  },
  {
   "cell_type": "code",
   "execution_count": null,
   "metadata": {},
   "outputs": [],
   "source": []
  },
  {
   "cell_type": "code",
   "execution_count": null,
   "metadata": {},
   "outputs": [],
   "source": []
  },
  {
   "cell_type": "code",
   "execution_count": null,
   "metadata": {},
   "outputs": [],
   "source": []
  },
  {
   "cell_type": "code",
   "execution_count": null,
   "metadata": {},
   "outputs": [],
   "source": []
  },
  {
   "cell_type": "code",
   "execution_count": 27,
   "metadata": {},
   "outputs": [
    {
     "name": "stdout",
     "output_type": "stream",
     "text": [
      "56\n",
      "0.00019503408652699593 9.216800713512043e-06\n"
     ]
    }
   ],
   "source": [
    "folder_path=\"D:\\\\HCCW\\\\HCCH\\\\1-7\\\\111\\\\Cc0_CTROI_\"\n",
    "density_tumor,density_lyphocyte=density(folder_path)\n",
    "print(density_tumor,density_lyphocyte)"
   ]
  },
  {
   "cell_type": "code",
   "execution_count": null,
   "metadata": {},
   "outputs": [],
   "source": []
  },
  {
   "cell_type": "code",
   "execution_count": 1,
   "metadata": {
    "scrolled": true
   },
   "outputs": [
    {
     "name": "stdout",
     "output_type": "stream",
     "text": [
      "1\n",
      "D:\\HCCW\\HCCH\\1-7\\111\\Cc0_CTROI.tiff\n"
     ]
    }
   ],
   "source": [
    "#step1：将切的图拼好\n",
    "#拼图函数\n",
    "#joint_image function\n",
    "e_folders='D:\\\\HCCW\\\\HCCH'\n",
    "_, folders, _ = next(os.walk(e_folders))\n",
    "print(len(folders))\n",
    "for folder in folders: \n",
    "    _,i_folders,_ = next(os.walk(os.path.join(e_folders, folder)))\n",
    "    for image_folders in i_folders:\n",
    "        _, image_f, _ = next(os.walk(os.path.join(e_folders, folder,image_folders)))\n",
    "        for i in range(len(image_f)):\n",
    "            _, images, _ = next(os.walk(os.path.join(e_folders, folder,image_folders,image_f[i])))\n",
    "            img_joint=[]\n",
    "            label_joint=[]\n",
    "            label_t_joint=[]\n",
    "            label_l_joint=[]\n",
    "            for k in range(len(images)):\n",
    "                full_paths=os.path.join(e_folders,folder,image_folders,image_f[i],str(k))\n",
    "                image_path=os.path.join(full_paths,'image.tiff')\n",
    "                label_path=os.path.join(full_paths,'label.png')\n",
    "                img_joint.append(image_path)\n",
    "                label_joint.append(label_path)\n",
    "            region_path=os.path.join(e_folders,folder,image_folders,str(image_f[i])[:-1]+'.tiff')\n",
    "            print(region_path)\n",
    "            region = cv2.imread(region_path)\n",
    "#             regions = Image.open(region_path)\n",
    "            n_y, n_x = region.shape[:2]\n",
    "            H=1024\n",
    "            W=1024\n",
    "            num_steps_y = math.ceil(n_y/H)\n",
    "            num_steps_x = math.ceil(n_x/W)\n",
    "            #创建空白图像，大小为n_y,n_x\n",
    "            result_image = Image.new(\"RGB\",(num_steps_x*W,num_steps_y*H))\n",
    "            result_label = Image.new(\"RGB\",(num_steps_x*W,num_steps_y*H))\n",
    "            for y in range(num_steps_y):\n",
    "                for x in range(num_steps_x):\n",
    "                    image = Image.open(img_joint[num_steps_x*y+x])\n",
    "                    result_image.paste(image,(x *W, y * H))\n",
    "                    label = Image.open(label_joint[num_steps_x*y+x])\n",
    "                    result_label.paste(label,(x *W, y * H))\n",
    "            result_image_path=os.path.join(e_folders,folder,image_folders,image_f[i],\"image.tiff\")\n",
    "            result_label_path=os.path.join(e_folders,folder,image_folders,image_f[i],\"label.tiff\")\n",
    "            result_image.save(result_image_path)     \n",
    "            result_label.save(result_label_path) "
   ]
  },
  {
   "cell_type": "code",
   "execution_count": null,
   "metadata": {},
   "outputs": [],
   "source": []
  },
  {
   "cell_type": "code",
   "execution_count": null,
   "metadata": {},
   "outputs": [],
   "source": []
  },
  {
   "cell_type": "code",
   "execution_count": null,
   "metadata": {},
   "outputs": [],
   "source": []
  },
  {
   "cell_type": "code",
   "execution_count": null,
   "metadata": {},
   "outputs": [],
   "source": []
  },
  {
   "cell_type": "code",
   "execution_count": null,
   "metadata": {},
   "outputs": [],
   "source": []
  },
  {
   "cell_type": "code",
   "execution_count": null,
   "metadata": {},
   "outputs": [],
   "source": []
  },
  {
   "cell_type": "code",
   "execution_count": null,
   "metadata": {},
   "outputs": [],
   "source": []
  },
  {
   "cell_type": "code",
   "execution_count": null,
   "metadata": {},
   "outputs": [],
   "source": []
  },
  {
   "cell_type": "code",
   "execution_count": null,
   "metadata": {},
   "outputs": [],
   "source": []
  },
  {
   "cell_type": "code",
   "execution_count": null,
   "metadata": {},
   "outputs": [],
   "source": []
  },
  {
   "cell_type": "code",
   "execution_count": null,
   "metadata": {},
   "outputs": [],
   "source": []
  },
  {
   "cell_type": "code",
   "execution_count": null,
   "metadata": {},
   "outputs": [],
   "source": []
  },
  {
   "cell_type": "code",
   "execution_count": null,
   "metadata": {},
   "outputs": [],
   "source": []
  },
  {
   "cell_type": "code",
   "execution_count": 8,
   "metadata": {
    "scrolled": true
   },
   "outputs": [
    {
     "name": "stdout",
     "output_type": "stream",
     "text": [
      "[[1989 2829]]\n",
      "6075861.0\n"
     ]
    }
   ],
   "source": [
    "region_path=\"D:\\\\HCCW\\\\HCCH\\\\1-7\\\\111\\\\Cc0_CTROI_\\\\image.tiff\"\n",
    "img =  cv2.imread(region_path)\n",
    "gray =  cv2.cvtColor(img,cv2.COLOR_BGR2GRAY)\n",
    "_,contours, _ = cv2.findContours(gray,cv2.RETR_EXTERNAL, cv2.CHAIN_APPROX_NONE)\n",
    "print(contours[0][3298])\n",
    "cnt = contours[0]\n",
    "area = cv2.contourArea(cnt)\n",
    "print(area)\n",
    "# cv2.drawContours(img,contours,-1,(0,0,255),3)\n",
    "# # cv2.imshow(\"img\", img)\n",
    "# # cv2.waitKey(0)\n",
    "# plt.imshow(img)"
   ]
  }
 ],
 "metadata": {
  "kernelspec": {
   "display_name": "Python 3",
   "language": "python",
   "name": "python3"
  },
  "language_info": {
   "codemirror_mode": {
    "name": "ipython",
    "version": 3
   },
   "file_extension": ".py",
   "mimetype": "text/x-python",
   "name": "python",
   "nbconvert_exporter": "python",
   "pygments_lexer": "ipython3",
   "version": "3.6.8"
  }
 },
 "nbformat": 4,
 "nbformat_minor": 2
}
